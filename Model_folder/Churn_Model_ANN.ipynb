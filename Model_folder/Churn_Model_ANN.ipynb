{
 "cells": [
  {
   "cell_type": "code",
   "execution_count": 1,
   "id": "5fb27e3f-5cb9-4425-a0f6-27bef6600470",
   "metadata": {},
   "outputs": [],
   "source": [
    "import pandas as pd\n",
    "import numpy as np\n",
    "import matplotlib.pyplot as plt \n",
    "from sklearn.model_selection import train_test_split as tits\n",
    "from sklearn.preprocessing import StandardScaler as StSc\n",
    "import tensorflow as tf\n",
    "import tensorflow.keras as keras\n",
    "from tensorflow.keras import Sequential as sq\n",
    "from tensorflow.keras.layers import Dense"
   ]
  },
  {
   "cell_type": "markdown",
   "id": "d5d8e44e-bb25-4229-8090-0db1e17c34e6",
   "metadata": {},
   "source": [
    "We have seen from the EDA that we won't need some column so with some basic eda we will figuring that out"
   ]
  },
  {
   "cell_type": "code",
   "execution_count": 2,
   "id": "bfec2536-70dd-466d-937e-22ff818539c7",
   "metadata": {},
   "outputs": [],
   "source": [
    "df = pd.read_csv('C:/Users/91771/OneDrive/Documents/GitHub/Customer_Churn_EDA_Analysis/churn_dataset.csv')"
   ]
  },
  {
   "cell_type": "code",
   "execution_count": 3,
   "id": "ebd21083-7dc4-48f3-ad39-7a0b4c2cc696",
   "metadata": {},
   "outputs": [
    {
     "data": {
      "text/html": [
       "<div>\n",
       "<style scoped>\n",
       "    .dataframe tbody tr th:only-of-type {\n",
       "        vertical-align: middle;\n",
       "    }\n",
       "\n",
       "    .dataframe tbody tr th {\n",
       "        vertical-align: top;\n",
       "    }\n",
       "\n",
       "    .dataframe thead th {\n",
       "        text-align: right;\n",
       "    }\n",
       "</style>\n",
       "<table border=\"1\" class=\"dataframe\">\n",
       "  <thead>\n",
       "    <tr style=\"text-align: right;\">\n",
       "      <th></th>\n",
       "      <th>customerID</th>\n",
       "      <th>gender</th>\n",
       "      <th>SeniorCitizen</th>\n",
       "      <th>Partner</th>\n",
       "      <th>Dependents</th>\n",
       "      <th>tenure</th>\n",
       "      <th>PhoneService</th>\n",
       "      <th>MultipleLines</th>\n",
       "      <th>InternetService</th>\n",
       "      <th>OnlineSecurity</th>\n",
       "      <th>...</th>\n",
       "      <th>DeviceProtection</th>\n",
       "      <th>TechSupport</th>\n",
       "      <th>StreamingTV</th>\n",
       "      <th>StreamingMovies</th>\n",
       "      <th>Contract</th>\n",
       "      <th>PaperlessBilling</th>\n",
       "      <th>PaymentMethod</th>\n",
       "      <th>MonthlyCharges</th>\n",
       "      <th>TotalCharges</th>\n",
       "      <th>Churn</th>\n",
       "    </tr>\n",
       "  </thead>\n",
       "  <tbody>\n",
       "    <tr>\n",
       "      <th>0</th>\n",
       "      <td>7590-VHVEG</td>\n",
       "      <td>Female</td>\n",
       "      <td>0</td>\n",
       "      <td>Yes</td>\n",
       "      <td>No</td>\n",
       "      <td>1</td>\n",
       "      <td>No</td>\n",
       "      <td>No phone service</td>\n",
       "      <td>DSL</td>\n",
       "      <td>No</td>\n",
       "      <td>...</td>\n",
       "      <td>No</td>\n",
       "      <td>No</td>\n",
       "      <td>No</td>\n",
       "      <td>No</td>\n",
       "      <td>Month-to-month</td>\n",
       "      <td>Yes</td>\n",
       "      <td>Electronic check</td>\n",
       "      <td>29.85</td>\n",
       "      <td>29.85</td>\n",
       "      <td>No</td>\n",
       "    </tr>\n",
       "    <tr>\n",
       "      <th>1</th>\n",
       "      <td>5575-GNVDE</td>\n",
       "      <td>Male</td>\n",
       "      <td>0</td>\n",
       "      <td>No</td>\n",
       "      <td>No</td>\n",
       "      <td>34</td>\n",
       "      <td>Yes</td>\n",
       "      <td>No</td>\n",
       "      <td>DSL</td>\n",
       "      <td>Yes</td>\n",
       "      <td>...</td>\n",
       "      <td>Yes</td>\n",
       "      <td>No</td>\n",
       "      <td>No</td>\n",
       "      <td>No</td>\n",
       "      <td>One year</td>\n",
       "      <td>No</td>\n",
       "      <td>Mailed check</td>\n",
       "      <td>56.95</td>\n",
       "      <td>1889.5</td>\n",
       "      <td>No</td>\n",
       "    </tr>\n",
       "    <tr>\n",
       "      <th>2</th>\n",
       "      <td>3668-QPYBK</td>\n",
       "      <td>Male</td>\n",
       "      <td>0</td>\n",
       "      <td>No</td>\n",
       "      <td>No</td>\n",
       "      <td>2</td>\n",
       "      <td>Yes</td>\n",
       "      <td>No</td>\n",
       "      <td>DSL</td>\n",
       "      <td>Yes</td>\n",
       "      <td>...</td>\n",
       "      <td>No</td>\n",
       "      <td>No</td>\n",
       "      <td>No</td>\n",
       "      <td>No</td>\n",
       "      <td>Month-to-month</td>\n",
       "      <td>Yes</td>\n",
       "      <td>Mailed check</td>\n",
       "      <td>53.85</td>\n",
       "      <td>108.15</td>\n",
       "      <td>Yes</td>\n",
       "    </tr>\n",
       "    <tr>\n",
       "      <th>3</th>\n",
       "      <td>7795-CFOCW</td>\n",
       "      <td>Male</td>\n",
       "      <td>0</td>\n",
       "      <td>No</td>\n",
       "      <td>No</td>\n",
       "      <td>45</td>\n",
       "      <td>No</td>\n",
       "      <td>No phone service</td>\n",
       "      <td>DSL</td>\n",
       "      <td>Yes</td>\n",
       "      <td>...</td>\n",
       "      <td>Yes</td>\n",
       "      <td>Yes</td>\n",
       "      <td>No</td>\n",
       "      <td>No</td>\n",
       "      <td>One year</td>\n",
       "      <td>No</td>\n",
       "      <td>Bank transfer (automatic)</td>\n",
       "      <td>42.30</td>\n",
       "      <td>1840.75</td>\n",
       "      <td>No</td>\n",
       "    </tr>\n",
       "    <tr>\n",
       "      <th>4</th>\n",
       "      <td>9237-HQITU</td>\n",
       "      <td>Female</td>\n",
       "      <td>0</td>\n",
       "      <td>No</td>\n",
       "      <td>No</td>\n",
       "      <td>2</td>\n",
       "      <td>Yes</td>\n",
       "      <td>No</td>\n",
       "      <td>Fiber optic</td>\n",
       "      <td>No</td>\n",
       "      <td>...</td>\n",
       "      <td>No</td>\n",
       "      <td>No</td>\n",
       "      <td>No</td>\n",
       "      <td>No</td>\n",
       "      <td>Month-to-month</td>\n",
       "      <td>Yes</td>\n",
       "      <td>Electronic check</td>\n",
       "      <td>70.70</td>\n",
       "      <td>151.65</td>\n",
       "      <td>Yes</td>\n",
       "    </tr>\n",
       "  </tbody>\n",
       "</table>\n",
       "<p>5 rows × 21 columns</p>\n",
       "</div>"
      ],
      "text/plain": [
       "   customerID  gender  SeniorCitizen Partner Dependents  tenure PhoneService  \\\n",
       "0  7590-VHVEG  Female              0     Yes         No       1           No   \n",
       "1  5575-GNVDE    Male              0      No         No      34          Yes   \n",
       "2  3668-QPYBK    Male              0      No         No       2          Yes   \n",
       "3  7795-CFOCW    Male              0      No         No      45           No   \n",
       "4  9237-HQITU  Female              0      No         No       2          Yes   \n",
       "\n",
       "      MultipleLines InternetService OnlineSecurity  ... DeviceProtection  \\\n",
       "0  No phone service             DSL             No  ...               No   \n",
       "1                No             DSL            Yes  ...              Yes   \n",
       "2                No             DSL            Yes  ...               No   \n",
       "3  No phone service             DSL            Yes  ...              Yes   \n",
       "4                No     Fiber optic             No  ...               No   \n",
       "\n",
       "  TechSupport StreamingTV StreamingMovies        Contract PaperlessBilling  \\\n",
       "0          No          No              No  Month-to-month              Yes   \n",
       "1          No          No              No        One year               No   \n",
       "2          No          No              No  Month-to-month              Yes   \n",
       "3         Yes          No              No        One year               No   \n",
       "4          No          No              No  Month-to-month              Yes   \n",
       "\n",
       "               PaymentMethod MonthlyCharges  TotalCharges Churn  \n",
       "0           Electronic check          29.85         29.85    No  \n",
       "1               Mailed check          56.95        1889.5    No  \n",
       "2               Mailed check          53.85        108.15   Yes  \n",
       "3  Bank transfer (automatic)          42.30       1840.75    No  \n",
       "4           Electronic check          70.70        151.65   Yes  \n",
       "\n",
       "[5 rows x 21 columns]"
      ]
     },
     "execution_count": 3,
     "metadata": {},
     "output_type": "execute_result"
    }
   ],
   "source": [
    "df.head()"
   ]
  },
  {
   "cell_type": "code",
   "execution_count": 4,
   "id": "22def1de-2ecf-4280-8b73-44c6e97195af",
   "metadata": {},
   "outputs": [
    {
     "name": "stdout",
     "output_type": "stream",
     "text": [
      "<class 'pandas.core.frame.DataFrame'>\n",
      "RangeIndex: 7043 entries, 0 to 7042\n",
      "Data columns (total 21 columns):\n",
      " #   Column            Non-Null Count  Dtype  \n",
      "---  ------            --------------  -----  \n",
      " 0   customerID        7043 non-null   object \n",
      " 1   gender            7043 non-null   object \n",
      " 2   SeniorCitizen     7043 non-null   int64  \n",
      " 3   Partner           7043 non-null   object \n",
      " 4   Dependents        7043 non-null   object \n",
      " 5   tenure            7043 non-null   int64  \n",
      " 6   PhoneService      7043 non-null   object \n",
      " 7   MultipleLines     7043 non-null   object \n",
      " 8   InternetService   7043 non-null   object \n",
      " 9   OnlineSecurity    7043 non-null   object \n",
      " 10  OnlineBackup      7043 non-null   object \n",
      " 11  DeviceProtection  7043 non-null   object \n",
      " 12  TechSupport       7043 non-null   object \n",
      " 13  StreamingTV       7043 non-null   object \n",
      " 14  StreamingMovies   7043 non-null   object \n",
      " 15  Contract          7043 non-null   object \n",
      " 16  PaperlessBilling  7043 non-null   object \n",
      " 17  PaymentMethod     7043 non-null   object \n",
      " 18  MonthlyCharges    7043 non-null   float64\n",
      " 19  TotalCharges      7043 non-null   object \n",
      " 20  Churn             7043 non-null   object \n",
      "dtypes: float64(1), int64(2), object(18)\n",
      "memory usage: 1.1+ MB\n"
     ]
    }
   ],
   "source": [
    "df.info()"
   ]
  },
  {
   "cell_type": "markdown",
   "id": "95bf3a0a-3240-48ed-9646-d6649804ba35",
   "metadata": {},
   "source": [
    "**So from here we will be dropping the 'CustomerId'  column as it can't be a valid predictor.**"
   ]
  },
  {
   "cell_type": "code",
   "execution_count": 5,
   "id": "35ee6ccb-cf9e-4d4f-9dc1-76a6a23fc7b8",
   "metadata": {},
   "outputs": [],
   "source": [
    "df.drop(columns = ['customerID'],inplace=True)"
   ]
  },
  {
   "cell_type": "code",
   "execution_count": 6,
   "id": "826ee4e0-3dbf-4776-a1d0-b7f060abf334",
   "metadata": {},
   "outputs": [
    {
     "name": "stdout",
     "output_type": "stream",
     "text": [
      "<class 'pandas.core.frame.DataFrame'>\n",
      "RangeIndex: 7043 entries, 0 to 7042\n",
      "Data columns (total 20 columns):\n",
      " #   Column            Non-Null Count  Dtype  \n",
      "---  ------            --------------  -----  \n",
      " 0   gender            7043 non-null   object \n",
      " 1   SeniorCitizen     7043 non-null   int64  \n",
      " 2   Partner           7043 non-null   object \n",
      " 3   Dependents        7043 non-null   object \n",
      " 4   tenure            7043 non-null   int64  \n",
      " 5   PhoneService      7043 non-null   object \n",
      " 6   MultipleLines     7043 non-null   object \n",
      " 7   InternetService   7043 non-null   object \n",
      " 8   OnlineSecurity    7043 non-null   object \n",
      " 9   OnlineBackup      7043 non-null   object \n",
      " 10  DeviceProtection  7043 non-null   object \n",
      " 11  TechSupport       7043 non-null   object \n",
      " 12  StreamingTV       7043 non-null   object \n",
      " 13  StreamingMovies   7043 non-null   object \n",
      " 14  Contract          7043 non-null   object \n",
      " 15  PaperlessBilling  7043 non-null   object \n",
      " 16  PaymentMethod     7043 non-null   object \n",
      " 17  MonthlyCharges    7043 non-null   float64\n",
      " 18  TotalCharges      7043 non-null   object \n",
      " 19  Churn             7043 non-null   object \n",
      "dtypes: float64(1), int64(2), object(17)\n",
      "memory usage: 1.1+ MB\n"
     ]
    }
   ],
   "source": [
    "df.info()"
   ]
  },
  {
   "cell_type": "markdown",
   "id": "a815129c-ad85-4cf8-bba9-f1a7d6b816fe",
   "metadata": {},
   "source": [
    "checking Senior citizen(if value= 1) numbers:"
   ]
  },
  {
   "cell_type": "code",
   "execution_count": 7,
   "id": "17470ee2-2969-430f-b24b-3126533ae6c5",
   "metadata": {},
   "outputs": [
    {
     "data": {
      "text/plain": [
       "0    5901\n",
       "1    1142\n",
       "Name: SeniorCitizen, dtype: int64"
      ]
     },
     "execution_count": 7,
     "metadata": {},
     "output_type": "execute_result"
    }
   ],
   "source": [
    "df.SeniorCitizen.value_counts()"
   ]
  },
  {
   "cell_type": "markdown",
   "id": "42733eef-ffba-4eff-a4c6-0bce2b0c6de8",
   "metadata": {},
   "source": [
    "seeing further values of diff columns"
   ]
  },
  {
   "cell_type": "code",
   "execution_count": 8,
   "id": "87d52614-d08b-445a-b471-8ddc46d58c27",
   "metadata": {},
   "outputs": [
    {
     "data": {
      "text/html": [
       "<div>\n",
       "<style scoped>\n",
       "    .dataframe tbody tr th:only-of-type {\n",
       "        vertical-align: middle;\n",
       "    }\n",
       "\n",
       "    .dataframe tbody tr th {\n",
       "        vertical-align: top;\n",
       "    }\n",
       "\n",
       "    .dataframe thead th {\n",
       "        text-align: right;\n",
       "    }\n",
       "</style>\n",
       "<table border=\"1\" class=\"dataframe\">\n",
       "  <thead>\n",
       "    <tr style=\"text-align: right;\">\n",
       "      <th></th>\n",
       "      <th>Partner</th>\n",
       "      <th>Dependents</th>\n",
       "      <th>PhoneService</th>\n",
       "      <th>MultipleLines</th>\n",
       "      <th>OnlineSecurity</th>\n",
       "      <th>OnlineBackup</th>\n",
       "      <th>DeviceProtection</th>\n",
       "      <th>TechSupport</th>\n",
       "      <th>StreamingTV</th>\n",
       "      <th>StreamingMovies</th>\n",
       "      <th>PaperlessBilling</th>\n",
       "      <th>Churn</th>\n",
       "    </tr>\n",
       "  </thead>\n",
       "  <tbody>\n",
       "    <tr>\n",
       "      <th>No</th>\n",
       "      <td>3641.0</td>\n",
       "      <td>4933.0</td>\n",
       "      <td>682.0</td>\n",
       "      <td>3390.0</td>\n",
       "      <td>3498.0</td>\n",
       "      <td>3088.0</td>\n",
       "      <td>3095.0</td>\n",
       "      <td>3473.0</td>\n",
       "      <td>2810.0</td>\n",
       "      <td>2785.0</td>\n",
       "      <td>2872.0</td>\n",
       "      <td>5174.0</td>\n",
       "    </tr>\n",
       "    <tr>\n",
       "      <th>No internet service</th>\n",
       "      <td>NaN</td>\n",
       "      <td>NaN</td>\n",
       "      <td>NaN</td>\n",
       "      <td>NaN</td>\n",
       "      <td>1526.0</td>\n",
       "      <td>1526.0</td>\n",
       "      <td>1526.0</td>\n",
       "      <td>1526.0</td>\n",
       "      <td>1526.0</td>\n",
       "      <td>1526.0</td>\n",
       "      <td>NaN</td>\n",
       "      <td>NaN</td>\n",
       "    </tr>\n",
       "    <tr>\n",
       "      <th>No phone service</th>\n",
       "      <td>NaN</td>\n",
       "      <td>NaN</td>\n",
       "      <td>NaN</td>\n",
       "      <td>682.0</td>\n",
       "      <td>NaN</td>\n",
       "      <td>NaN</td>\n",
       "      <td>NaN</td>\n",
       "      <td>NaN</td>\n",
       "      <td>NaN</td>\n",
       "      <td>NaN</td>\n",
       "      <td>NaN</td>\n",
       "      <td>NaN</td>\n",
       "    </tr>\n",
       "    <tr>\n",
       "      <th>Yes</th>\n",
       "      <td>3402.0</td>\n",
       "      <td>2110.0</td>\n",
       "      <td>6361.0</td>\n",
       "      <td>2971.0</td>\n",
       "      <td>2019.0</td>\n",
       "      <td>2429.0</td>\n",
       "      <td>2422.0</td>\n",
       "      <td>2044.0</td>\n",
       "      <td>2707.0</td>\n",
       "      <td>2732.0</td>\n",
       "      <td>4171.0</td>\n",
       "      <td>1869.0</td>\n",
       "    </tr>\n",
       "  </tbody>\n",
       "</table>\n",
       "</div>"
      ],
      "text/plain": [
       "                     Partner  Dependents  PhoneService  MultipleLines  \\\n",
       "No                    3641.0      4933.0         682.0         3390.0   \n",
       "No internet service      NaN         NaN           NaN            NaN   \n",
       "No phone service         NaN         NaN           NaN          682.0   \n",
       "Yes                   3402.0      2110.0        6361.0         2971.0   \n",
       "\n",
       "                     OnlineSecurity  OnlineBackup  DeviceProtection  \\\n",
       "No                           3498.0        3088.0            3095.0   \n",
       "No internet service          1526.0        1526.0            1526.0   \n",
       "No phone service                NaN           NaN               NaN   \n",
       "Yes                          2019.0        2429.0            2422.0   \n",
       "\n",
       "                     TechSupport  StreamingTV  StreamingMovies  \\\n",
       "No                        3473.0       2810.0           2785.0   \n",
       "No internet service       1526.0       1526.0           1526.0   \n",
       "No phone service             NaN          NaN              NaN   \n",
       "Yes                       2044.0       2707.0           2732.0   \n",
       "\n",
       "                     PaperlessBilling   Churn  \n",
       "No                             2872.0  5174.0  \n",
       "No internet service               NaN     NaN  \n",
       "No phone service                  NaN     NaN  \n",
       "Yes                            4171.0  1869.0  "
      ]
     },
     "execution_count": 8,
     "metadata": {},
     "output_type": "execute_result"
    }
   ],
   "source": [
    "df[['Partner',\t'Dependents',\t'PhoneService',\t'MultipleLines',\t'OnlineSecurity', 'OnlineBackup',\t'DeviceProtection', 'TechSupport', 'StreamingTV',\t'StreamingMovies', 'PaperlessBilling',\t'Churn']].apply(pd.value_counts)"
   ]
  },
  {
   "cell_type": "code",
   "execution_count": 9,
   "id": "e18c25d6-1b80-4d1a-a6a7-824c99935e5c",
   "metadata": {},
   "outputs": [],
   "source": [
    "# dropping the rows having NaN values\n",
    "df = df.dropna()"
   ]
  },
  {
   "cell_type": "code",
   "execution_count": 10,
   "id": "e6625226-fd45-4ee8-889a-10e38d1d4ebd",
   "metadata": {},
   "outputs": [
    {
     "data": {
      "text/plain": [
       "(7043, 20)"
      ]
     },
     "execution_count": 10,
     "metadata": {},
     "output_type": "execute_result"
    }
   ],
   "source": [
    "df.shape"
   ]
  },
  {
   "cell_type": "code",
   "execution_count": 11,
   "id": "f9a22991-315c-4be8-bd6b-5ef3855dad8d",
   "metadata": {},
   "outputs": [
    {
     "data": {
      "text/plain": [
       "gender               0\n",
       "SeniorCitizen        0\n",
       "Partner              0\n",
       "Dependents           0\n",
       "tenure               0\n",
       "PhoneService         0\n",
       "MultipleLines        0\n",
       "InternetService      0\n",
       "OnlineSecurity       0\n",
       "OnlineBackup         0\n",
       "DeviceProtection     0\n",
       "TechSupport          0\n",
       "StreamingTV          0\n",
       "StreamingMovies      0\n",
       "Contract             0\n",
       "PaperlessBilling     0\n",
       "PaymentMethod        0\n",
       "MonthlyCharges       0\n",
       "TotalCharges        11\n",
       "Churn                0\n",
       "dtype: int64"
      ]
     },
     "execution_count": 11,
     "metadata": {},
     "output_type": "execute_result"
    }
   ],
   "source": [
    "df.TotalCharges = pd.to_numeric(df.TotalCharges,errors='coerce') #changing total charges to numerical value\n",
    "df.isnull().sum()"
   ]
  },
  {
   "cell_type": "markdown",
   "id": "d76e3e38-58c1-461a-b4fa-8cb55a3ca9ba",
   "metadata": {},
   "source": [
    "_**From here we see that we have 11 rows with Null values in the total charges section so we remove those**_"
   ]
  },
  {
   "cell_type": "code",
   "execution_count": 12,
   "id": "c0715c88-20ad-4ae0-9ad6-0f382207e63e",
   "metadata": {},
   "outputs": [],
   "source": [
    "#Removing missing values\n",
    "df.dropna(how='any',inplace=True)"
   ]
  },
  {
   "cell_type": "code",
   "execution_count": 13,
   "id": "ebe5fb09-9f0a-45f8-95fd-10e081b903d5",
   "metadata": {},
   "outputs": [
    {
     "name": "stdout",
     "output_type": "stream",
     "text": [
      "<class 'pandas.core.frame.DataFrame'>\n",
      "Int64Index: 7032 entries, 0 to 7042\n",
      "Data columns (total 20 columns):\n",
      " #   Column            Non-Null Count  Dtype  \n",
      "---  ------            --------------  -----  \n",
      " 0   gender            7032 non-null   object \n",
      " 1   SeniorCitizen     7032 non-null   int64  \n",
      " 2   Partner           7032 non-null   object \n",
      " 3   Dependents        7032 non-null   object \n",
      " 4   tenure            7032 non-null   int64  \n",
      " 5   PhoneService      7032 non-null   object \n",
      " 6   MultipleLines     7032 non-null   object \n",
      " 7   InternetService   7032 non-null   object \n",
      " 8   OnlineSecurity    7032 non-null   object \n",
      " 9   OnlineBackup      7032 non-null   object \n",
      " 10  DeviceProtection  7032 non-null   object \n",
      " 11  TechSupport       7032 non-null   object \n",
      " 12  StreamingTV       7032 non-null   object \n",
      " 13  StreamingMovies   7032 non-null   object \n",
      " 14  Contract          7032 non-null   object \n",
      " 15  PaperlessBilling  7032 non-null   object \n",
      " 16  PaymentMethod     7032 non-null   object \n",
      " 17  MonthlyCharges    7032 non-null   float64\n",
      " 18  TotalCharges      7032 non-null   float64\n",
      " 19  Churn             7032 non-null   object \n",
      "dtypes: float64(2), int64(2), object(16)\n",
      "memory usage: 1.1+ MB\n"
     ]
    }
   ],
   "source": [
    "df.info()"
   ]
  },
  {
   "cell_type": "code",
   "execution_count": 14,
   "id": "eb3de82d-fc38-4999-af75-e0fda5155169",
   "metadata": {},
   "outputs": [
    {
     "data": {
      "text/html": [
       "<div>\n",
       "<style scoped>\n",
       "    .dataframe tbody tr th:only-of-type {\n",
       "        vertical-align: middle;\n",
       "    }\n",
       "\n",
       "    .dataframe tbody tr th {\n",
       "        vertical-align: top;\n",
       "    }\n",
       "\n",
       "    .dataframe thead th {\n",
       "        text-align: right;\n",
       "    }\n",
       "</style>\n",
       "<table border=\"1\" class=\"dataframe\">\n",
       "  <thead>\n",
       "    <tr style=\"text-align: right;\">\n",
       "      <th></th>\n",
       "      <th>gender</th>\n",
       "      <th>InternetService</th>\n",
       "      <th>Contract</th>\n",
       "      <th>PaymentMethod</th>\n",
       "    </tr>\n",
       "  </thead>\n",
       "  <tbody>\n",
       "    <tr>\n",
       "      <th>Bank transfer (automatic)</th>\n",
       "      <td>NaN</td>\n",
       "      <td>NaN</td>\n",
       "      <td>NaN</td>\n",
       "      <td>1542.0</td>\n",
       "    </tr>\n",
       "    <tr>\n",
       "      <th>Credit card (automatic)</th>\n",
       "      <td>NaN</td>\n",
       "      <td>NaN</td>\n",
       "      <td>NaN</td>\n",
       "      <td>1521.0</td>\n",
       "    </tr>\n",
       "    <tr>\n",
       "      <th>DSL</th>\n",
       "      <td>NaN</td>\n",
       "      <td>2416.0</td>\n",
       "      <td>NaN</td>\n",
       "      <td>NaN</td>\n",
       "    </tr>\n",
       "    <tr>\n",
       "      <th>Electronic check</th>\n",
       "      <td>NaN</td>\n",
       "      <td>NaN</td>\n",
       "      <td>NaN</td>\n",
       "      <td>2365.0</td>\n",
       "    </tr>\n",
       "    <tr>\n",
       "      <th>Female</th>\n",
       "      <td>3483.0</td>\n",
       "      <td>NaN</td>\n",
       "      <td>NaN</td>\n",
       "      <td>NaN</td>\n",
       "    </tr>\n",
       "    <tr>\n",
       "      <th>Fiber optic</th>\n",
       "      <td>NaN</td>\n",
       "      <td>3096.0</td>\n",
       "      <td>NaN</td>\n",
       "      <td>NaN</td>\n",
       "    </tr>\n",
       "    <tr>\n",
       "      <th>Mailed check</th>\n",
       "      <td>NaN</td>\n",
       "      <td>NaN</td>\n",
       "      <td>NaN</td>\n",
       "      <td>1604.0</td>\n",
       "    </tr>\n",
       "    <tr>\n",
       "      <th>Male</th>\n",
       "      <td>3549.0</td>\n",
       "      <td>NaN</td>\n",
       "      <td>NaN</td>\n",
       "      <td>NaN</td>\n",
       "    </tr>\n",
       "    <tr>\n",
       "      <th>Month-to-month</th>\n",
       "      <td>NaN</td>\n",
       "      <td>NaN</td>\n",
       "      <td>3875.0</td>\n",
       "      <td>NaN</td>\n",
       "    </tr>\n",
       "    <tr>\n",
       "      <th>No</th>\n",
       "      <td>NaN</td>\n",
       "      <td>1520.0</td>\n",
       "      <td>NaN</td>\n",
       "      <td>NaN</td>\n",
       "    </tr>\n",
       "    <tr>\n",
       "      <th>One year</th>\n",
       "      <td>NaN</td>\n",
       "      <td>NaN</td>\n",
       "      <td>1472.0</td>\n",
       "      <td>NaN</td>\n",
       "    </tr>\n",
       "    <tr>\n",
       "      <th>Two year</th>\n",
       "      <td>NaN</td>\n",
       "      <td>NaN</td>\n",
       "      <td>1685.0</td>\n",
       "      <td>NaN</td>\n",
       "    </tr>\n",
       "  </tbody>\n",
       "</table>\n",
       "</div>"
      ],
      "text/plain": [
       "                           gender  InternetService  Contract  PaymentMethod\n",
       "Bank transfer (automatic)     NaN              NaN       NaN         1542.0\n",
       "Credit card (automatic)       NaN              NaN       NaN         1521.0\n",
       "DSL                           NaN           2416.0       NaN            NaN\n",
       "Electronic check              NaN              NaN       NaN         2365.0\n",
       "Female                     3483.0              NaN       NaN            NaN\n",
       "Fiber optic                   NaN           3096.0       NaN            NaN\n",
       "Mailed check                  NaN              NaN       NaN         1604.0\n",
       "Male                       3549.0              NaN       NaN            NaN\n",
       "Month-to-month                NaN              NaN    3875.0            NaN\n",
       "No                            NaN           1520.0       NaN            NaN\n",
       "One year                      NaN              NaN    1472.0            NaN\n",
       "Two year                      NaN              NaN    1685.0            NaN"
      ]
     },
     "execution_count": 14,
     "metadata": {},
     "output_type": "execute_result"
    }
   ],
   "source": [
    "df[['gender', 'InternetService', 'Contract', 'PaymentMethod']].apply(pd.value_counts)"
   ]
  },
  {
   "cell_type": "code",
   "execution_count": 15,
   "id": "d49fddd0-957c-4dd0-a221-3068a0b49f0f",
   "metadata": {},
   "outputs": [],
   "source": [
    "from sklearn.preprocessing import LabelEncoder\n",
    "\n",
    "#perform label encoding across 'gender',\t'InternetService',\t'Contract' and\t'PaymentMethod' columns where 0=Female/DSL/Month to Month/Bank Transfer; 1=Male/Fiber optic/One Year/Credit Card ; 2=No/Two Year/Electronic Check; 3=Mailed Check\n",
    "df[['gender',\t'InternetService',\t'Contract',\t'PaymentMethod']] = df[['gender',\t'InternetService',\t'Contract',\t'PaymentMethod']].apply(LabelEncoder().fit_transform)"
   ]
  },
  {
   "cell_type": "code",
   "execution_count": 16,
   "id": "29521aec-773f-47f9-a4d5-ac3ed9d40f18",
   "metadata": {},
   "outputs": [
    {
     "data": {
      "text/plain": [
       "1    3549\n",
       "0    3483\n",
       "Name: gender, dtype: int64"
      ]
     },
     "execution_count": 16,
     "metadata": {},
     "output_type": "execute_result"
    }
   ],
   "source": [
    "df.gender.value_counts()"
   ]
  },
  {
   "cell_type": "code",
   "execution_count": 17,
   "id": "e6300a3a-9e9a-415a-8f9c-a72d7c7f2485",
   "metadata": {},
   "outputs": [],
   "source": [
    "from sklearn.preprocessing import LabelEncoder\n",
    "\n",
    "#perform label encoding across 'Partner',\t'Dependents',\t'PhoneService', 'PaperlessBilling' and\t'Churn' columns where 0=no and 1=yes\n",
    "df[['Partner',\t'Dependents',\t'PhoneService','OnlineBackup', 'PaperlessBilling',\t'Churn']] = df[['Partner',\t'Dependents',\t'PhoneService','OnlineBackup', 'PaperlessBilling',\t'Churn']].apply(LabelEncoder().fit_transform)\n"
   ]
  },
  {
   "cell_type": "code",
   "execution_count": 18,
   "id": "059a1ace-4a4e-48c3-b535-5cd46c8a5fee",
   "metadata": {},
   "outputs": [
    {
     "data": {
      "text/plain": [
       "0    3639\n",
       "1    3393\n",
       "Name: Partner, dtype: int64"
      ]
     },
     "execution_count": 18,
     "metadata": {},
     "output_type": "execute_result"
    }
   ],
   "source": [
    "df.Partner.value_counts() #checking"
   ]
  },
  {
   "cell_type": "code",
   "execution_count": 19,
   "id": "39d9f5f4-189c-46b2-b254-9b911f7abb8a",
   "metadata": {},
   "outputs": [],
   "source": [
    "#perform label encoding across 'OnlineSecurity',\t'DeviceProtection', 'TechSupport', 'StreamingTV' and\t'StreamingMovies' columns where 0=No, 2=Yes and 1= No Internet Service\n",
    "df[['OnlineSecurity',\t'DeviceProtection', 'TechSupport', 'StreamingTV',\t'StreamingMovies']] = df[['OnlineSecurity',\t'DeviceProtection', 'TechSupport', 'StreamingTV',\t'StreamingMovies']].apply(LabelEncoder().fit_transform)"
   ]
  },
  {
   "cell_type": "code",
   "execution_count": 20,
   "id": "007f8230-6b34-4941-be95-1f68bbefd2d0",
   "metadata": {},
   "outputs": [
    {
     "data": {
      "text/plain": [
       "0    3472\n",
       "2    2040\n",
       "1    1520\n",
       "Name: TechSupport, dtype: int64"
      ]
     },
     "execution_count": 20,
     "metadata": {},
     "output_type": "execute_result"
    }
   ],
   "source": [
    "df.TechSupport.value_counts()"
   ]
  },
  {
   "cell_type": "code",
   "execution_count": 21,
   "id": "e5e1e438-5abf-4c87-83f9-4b5ef0fdc1f8",
   "metadata": {},
   "outputs": [],
   "source": [
    "#perform label encoding on 'MultipleLines' column where 0= No, 2= Yes and 1= No Phone Services\n",
    "df[['MultipleLines']] = df[['MultipleLines']].apply(LabelEncoder().fit_transform)"
   ]
  },
  {
   "cell_type": "code",
   "execution_count": 22,
   "id": "89ec49a8-4f57-43d8-8296-4c65c5353311",
   "metadata": {},
   "outputs": [
    {
     "data": {
      "text/plain": [
       "0    3385\n",
       "2    2967\n",
       "1     680\n",
       "Name: MultipleLines, dtype: int64"
      ]
     },
     "execution_count": 22,
     "metadata": {},
     "output_type": "execute_result"
    }
   ],
   "source": [
    "df.MultipleLines.value_counts()"
   ]
  },
  {
   "cell_type": "code",
   "execution_count": 23,
   "id": "f31cae31-93bc-47bf-a3cc-fc556e348c74",
   "metadata": {},
   "outputs": [
    {
     "data": {
      "text/html": [
       "<div>\n",
       "<style scoped>\n",
       "    .dataframe tbody tr th:only-of-type {\n",
       "        vertical-align: middle;\n",
       "    }\n",
       "\n",
       "    .dataframe tbody tr th {\n",
       "        vertical-align: top;\n",
       "    }\n",
       "\n",
       "    .dataframe thead th {\n",
       "        text-align: right;\n",
       "    }\n",
       "</style>\n",
       "<table border=\"1\" class=\"dataframe\">\n",
       "  <thead>\n",
       "    <tr style=\"text-align: right;\">\n",
       "      <th></th>\n",
       "      <th>gender</th>\n",
       "      <th>SeniorCitizen</th>\n",
       "      <th>Partner</th>\n",
       "      <th>Dependents</th>\n",
       "      <th>tenure</th>\n",
       "      <th>PhoneService</th>\n",
       "      <th>MultipleLines</th>\n",
       "      <th>InternetService</th>\n",
       "      <th>OnlineSecurity</th>\n",
       "      <th>OnlineBackup</th>\n",
       "      <th>DeviceProtection</th>\n",
       "      <th>TechSupport</th>\n",
       "      <th>StreamingTV</th>\n",
       "      <th>StreamingMovies</th>\n",
       "      <th>Contract</th>\n",
       "      <th>PaperlessBilling</th>\n",
       "      <th>PaymentMethod</th>\n",
       "      <th>MonthlyCharges</th>\n",
       "      <th>TotalCharges</th>\n",
       "      <th>Churn</th>\n",
       "    </tr>\n",
       "  </thead>\n",
       "  <tbody>\n",
       "    <tr>\n",
       "      <th>0</th>\n",
       "      <td>0</td>\n",
       "      <td>0</td>\n",
       "      <td>1</td>\n",
       "      <td>0</td>\n",
       "      <td>1</td>\n",
       "      <td>0</td>\n",
       "      <td>1</td>\n",
       "      <td>0</td>\n",
       "      <td>0</td>\n",
       "      <td>2</td>\n",
       "      <td>0</td>\n",
       "      <td>0</td>\n",
       "      <td>0</td>\n",
       "      <td>0</td>\n",
       "      <td>0</td>\n",
       "      <td>1</td>\n",
       "      <td>2</td>\n",
       "      <td>29.85</td>\n",
       "      <td>29.85</td>\n",
       "      <td>0</td>\n",
       "    </tr>\n",
       "    <tr>\n",
       "      <th>1</th>\n",
       "      <td>1</td>\n",
       "      <td>0</td>\n",
       "      <td>0</td>\n",
       "      <td>0</td>\n",
       "      <td>34</td>\n",
       "      <td>1</td>\n",
       "      <td>0</td>\n",
       "      <td>0</td>\n",
       "      <td>2</td>\n",
       "      <td>0</td>\n",
       "      <td>2</td>\n",
       "      <td>0</td>\n",
       "      <td>0</td>\n",
       "      <td>0</td>\n",
       "      <td>1</td>\n",
       "      <td>0</td>\n",
       "      <td>3</td>\n",
       "      <td>56.95</td>\n",
       "      <td>1889.50</td>\n",
       "      <td>0</td>\n",
       "    </tr>\n",
       "    <tr>\n",
       "      <th>2</th>\n",
       "      <td>1</td>\n",
       "      <td>0</td>\n",
       "      <td>0</td>\n",
       "      <td>0</td>\n",
       "      <td>2</td>\n",
       "      <td>1</td>\n",
       "      <td>0</td>\n",
       "      <td>0</td>\n",
       "      <td>2</td>\n",
       "      <td>2</td>\n",
       "      <td>0</td>\n",
       "      <td>0</td>\n",
       "      <td>0</td>\n",
       "      <td>0</td>\n",
       "      <td>0</td>\n",
       "      <td>1</td>\n",
       "      <td>3</td>\n",
       "      <td>53.85</td>\n",
       "      <td>108.15</td>\n",
       "      <td>1</td>\n",
       "    </tr>\n",
       "    <tr>\n",
       "      <th>3</th>\n",
       "      <td>1</td>\n",
       "      <td>0</td>\n",
       "      <td>0</td>\n",
       "      <td>0</td>\n",
       "      <td>45</td>\n",
       "      <td>0</td>\n",
       "      <td>1</td>\n",
       "      <td>0</td>\n",
       "      <td>2</td>\n",
       "      <td>0</td>\n",
       "      <td>2</td>\n",
       "      <td>2</td>\n",
       "      <td>0</td>\n",
       "      <td>0</td>\n",
       "      <td>1</td>\n",
       "      <td>0</td>\n",
       "      <td>0</td>\n",
       "      <td>42.30</td>\n",
       "      <td>1840.75</td>\n",
       "      <td>0</td>\n",
       "    </tr>\n",
       "    <tr>\n",
       "      <th>4</th>\n",
       "      <td>0</td>\n",
       "      <td>0</td>\n",
       "      <td>0</td>\n",
       "      <td>0</td>\n",
       "      <td>2</td>\n",
       "      <td>1</td>\n",
       "      <td>0</td>\n",
       "      <td>1</td>\n",
       "      <td>0</td>\n",
       "      <td>0</td>\n",
       "      <td>0</td>\n",
       "      <td>0</td>\n",
       "      <td>0</td>\n",
       "      <td>0</td>\n",
       "      <td>0</td>\n",
       "      <td>1</td>\n",
       "      <td>2</td>\n",
       "      <td>70.70</td>\n",
       "      <td>151.65</td>\n",
       "      <td>1</td>\n",
       "    </tr>\n",
       "  </tbody>\n",
       "</table>\n",
       "</div>"
      ],
      "text/plain": [
       "   gender  SeniorCitizen  Partner  Dependents  tenure  PhoneService  \\\n",
       "0       0              0        1           0       1             0   \n",
       "1       1              0        0           0      34             1   \n",
       "2       1              0        0           0       2             1   \n",
       "3       1              0        0           0      45             0   \n",
       "4       0              0        0           0       2             1   \n",
       "\n",
       "   MultipleLines  InternetService  OnlineSecurity  OnlineBackup  \\\n",
       "0              1                0               0             2   \n",
       "1              0                0               2             0   \n",
       "2              0                0               2             2   \n",
       "3              1                0               2             0   \n",
       "4              0                1               0             0   \n",
       "\n",
       "   DeviceProtection  TechSupport  StreamingTV  StreamingMovies  Contract  \\\n",
       "0                 0            0            0                0         0   \n",
       "1                 2            0            0                0         1   \n",
       "2                 0            0            0                0         0   \n",
       "3                 2            2            0                0         1   \n",
       "4                 0            0            0                0         0   \n",
       "\n",
       "   PaperlessBilling  PaymentMethod  MonthlyCharges  TotalCharges  Churn  \n",
       "0                 1              2           29.85         29.85      0  \n",
       "1                 0              3           56.95       1889.50      0  \n",
       "2                 1              3           53.85        108.15      1  \n",
       "3                 0              0           42.30       1840.75      0  \n",
       "4                 1              2           70.70        151.65      1  "
      ]
     },
     "execution_count": 23,
     "metadata": {},
     "output_type": "execute_result"
    }
   ],
   "source": [
    "df.head()"
   ]
  },
  {
   "cell_type": "code",
   "execution_count": 24,
   "id": "ecdd010d-772c-42dd-9010-4938934fe9f8",
   "metadata": {},
   "outputs": [
    {
     "name": "stdout",
     "output_type": "stream",
     "text": [
      "<class 'pandas.core.frame.DataFrame'>\n",
      "Int64Index: 7032 entries, 0 to 7042\n",
      "Data columns (total 20 columns):\n",
      " #   Column            Non-Null Count  Dtype  \n",
      "---  ------            --------------  -----  \n",
      " 0   gender            7032 non-null   int32  \n",
      " 1   SeniorCitizen     7032 non-null   int64  \n",
      " 2   Partner           7032 non-null   int32  \n",
      " 3   Dependents        7032 non-null   int32  \n",
      " 4   tenure            7032 non-null   int64  \n",
      " 5   PhoneService      7032 non-null   int32  \n",
      " 6   MultipleLines     7032 non-null   int32  \n",
      " 7   InternetService   7032 non-null   int32  \n",
      " 8   OnlineSecurity    7032 non-null   int32  \n",
      " 9   OnlineBackup      7032 non-null   int32  \n",
      " 10  DeviceProtection  7032 non-null   int32  \n",
      " 11  TechSupport       7032 non-null   int32  \n",
      " 12  StreamingTV       7032 non-null   int32  \n",
      " 13  StreamingMovies   7032 non-null   int32  \n",
      " 14  Contract          7032 non-null   int32  \n",
      " 15  PaperlessBilling  7032 non-null   int32  \n",
      " 16  PaymentMethod     7032 non-null   int32  \n",
      " 17  MonthlyCharges    7032 non-null   float64\n",
      " 18  TotalCharges      7032 non-null   float64\n",
      " 19  Churn             7032 non-null   int32  \n",
      "dtypes: float64(2), int32(16), int64(2)\n",
      "memory usage: 714.2 KB\n"
     ]
    }
   ],
   "source": [
    "df.info()"
   ]
  },
  {
   "cell_type": "markdown",
   "id": "7b331579-a768-4889-9190-0fd44a407bb8",
   "metadata": {},
   "source": [
    "now we will start to train test and build model"
   ]
  },
  {
   "cell_type": "code",
   "execution_count": 25,
   "id": "030cb7ec-929f-421b-bcae-691a66f12e86",
   "metadata": {},
   "outputs": [],
   "source": [
    "X = df.drop(columns=['Churn'])\n",
    "y = df['Churn'].values"
   ]
  },
  {
   "cell_type": "code",
   "execution_count": 26,
   "id": "47fa5119-ddba-45f4-ab90-02471f4d542f",
   "metadata": {},
   "outputs": [],
   "source": [
    "X_train,X_test,y_train,y_test=tits(X,y,test_size=0.2,random_state=0)"
   ]
  },
  {
   "cell_type": "code",
   "execution_count": 27,
   "id": "45e3cb4c-7a94-4581-b891-9cd578bfeaa8",
   "metadata": {},
   "outputs": [
    {
     "data": {
      "text/plain": [
       "(5625, 19)"
      ]
     },
     "execution_count": 27,
     "metadata": {},
     "output_type": "execute_result"
    }
   ],
   "source": [
    "X_train.shape"
   ]
  },
  {
   "cell_type": "code",
   "execution_count": 28,
   "id": "143d0b12-8bf3-4887-9b1d-6c382874da23",
   "metadata": {},
   "outputs": [],
   "source": [
    "scaler = StSc()"
   ]
  },
  {
   "cell_type": "code",
   "execution_count": 29,
   "id": "20a474af-259a-482a-a1e4-0879a6a0a264",
   "metadata": {},
   "outputs": [],
   "source": [
    "X_train_trf = scaler.fit_transform(X_train)\n",
    "X_test_trf = scaler.transform(X_test)"
   ]
  },
  {
   "cell_type": "code",
   "execution_count": 30,
   "id": "26274d3a-3063-4ba4-85d6-79eb8bebfdd0",
   "metadata": {},
   "outputs": [],
   "source": [
    "churn_model = sq()"
   ]
  },
  {
   "cell_type": "code",
   "execution_count": 31,
   "id": "5e4ebd63-e79c-4488-807c-4af7ddd33b56",
   "metadata": {},
   "outputs": [
    {
     "name": "stdout",
     "output_type": "stream",
     "text": [
      "Model: \"sequential\"\n",
      "_________________________________________________________________\n",
      " Layer (type)                Output Shape              Param #   \n",
      "=================================================================\n",
      " dense (Dense)               (None, 11)                132       \n",
      "                                                                 \n",
      " dense_1 (Dense)             (None, 11)                132       \n",
      "                                                                 \n",
      " dense_2 (Dense)             (None, 1)                 12        \n",
      "                                                                 \n",
      "=================================================================\n",
      "Total params: 276 (1.08 KB)\n",
      "Trainable params: 276 (1.08 KB)\n",
      "Non-trainable params: 0 (0.00 Byte)\n",
      "_________________________________________________________________\n"
     ]
    }
   ],
   "source": [
    "churn_model.add(Dense(11,activation='sigmoid',input_dim=11))\n",
    "churn_model.add(Dense(11,activation='sigmoid'))\n",
    "churn_model.add(Dense(1,activation='sigmoid'))\n",
    "\n",
    "churn_model.summary()"
   ]
  },
  {
   "cell_type": "code",
   "execution_count": 32,
   "id": "c41d62a1-8443-4047-a7f5-e9ee579bc63c",
   "metadata": {},
   "outputs": [],
   "source": [
    "churn_model.compile(loss='binary_crossentropy',optimizer='Adam',metrics=['accuracy'])"
   ]
  },
  {
   "cell_type": "code",
   "execution_count": 33,
   "id": "287ff569-9175-4fbc-a20e-a56e0840a955",
   "metadata": {},
   "outputs": [],
   "source": [
    "X_train_reshaped = X_train_trf[:, :11]  \n",
    "X_test_reshaped = X_test_trf[:, :11]\n"
   ]
  },
  {
   "cell_type": "code",
   "execution_count": 48,
   "id": "ed6a20cb-7e82-4426-911a-d1b9726dd0d6",
   "metadata": {},
   "outputs": [
    {
     "name": "stdout",
     "output_type": "stream",
     "text": [
      "Epoch 1/100\n",
      "90/90 [==============================] - 0s 3ms/step - loss: 0.4282 - accuracy: 0.7978 - val_loss: 0.4573 - val_accuracy: 0.7991\n",
      "Epoch 2/100\n",
      "90/90 [==============================] - 0s 3ms/step - loss: 0.4281 - accuracy: 0.7960 - val_loss: 0.4574 - val_accuracy: 0.8000\n",
      "Epoch 3/100\n",
      "90/90 [==============================] - 0s 3ms/step - loss: 0.4278 - accuracy: 0.7967 - val_loss: 0.4567 - val_accuracy: 0.8009\n",
      "Epoch 4/100\n",
      "90/90 [==============================] - 0s 3ms/step - loss: 0.4278 - accuracy: 0.7956 - val_loss: 0.4566 - val_accuracy: 0.8009\n",
      "Epoch 5/100\n",
      "90/90 [==============================] - 0s 3ms/step - loss: 0.4272 - accuracy: 0.7987 - val_loss: 0.4568 - val_accuracy: 0.8009\n",
      "Epoch 6/100\n",
      "90/90 [==============================] - 0s 3ms/step - loss: 0.4269 - accuracy: 0.7969 - val_loss: 0.4562 - val_accuracy: 0.8027\n",
      "Epoch 7/100\n",
      "90/90 [==============================] - 0s 3ms/step - loss: 0.4268 - accuracy: 0.7971 - val_loss: 0.4561 - val_accuracy: 0.8009\n",
      "Epoch 8/100\n",
      "90/90 [==============================] - 0s 3ms/step - loss: 0.4268 - accuracy: 0.7958 - val_loss: 0.4558 - val_accuracy: 0.8009\n",
      "Epoch 9/100\n",
      "90/90 [==============================] - 0s 3ms/step - loss: 0.4265 - accuracy: 0.7962 - val_loss: 0.4558 - val_accuracy: 0.8000\n",
      "Epoch 10/100\n",
      "90/90 [==============================] - 0s 3ms/step - loss: 0.4263 - accuracy: 0.7980 - val_loss: 0.4558 - val_accuracy: 0.8018\n",
      "Epoch 11/100\n",
      "90/90 [==============================] - 0s 3ms/step - loss: 0.4260 - accuracy: 0.7962 - val_loss: 0.4560 - val_accuracy: 0.8009\n",
      "Epoch 12/100\n",
      "90/90 [==============================] - 0s 3ms/step - loss: 0.4257 - accuracy: 0.7949 - val_loss: 0.4554 - val_accuracy: 0.7982\n",
      "Epoch 13/100\n",
      "90/90 [==============================] - 0s 3ms/step - loss: 0.4255 - accuracy: 0.7967 - val_loss: 0.4553 - val_accuracy: 0.8036\n",
      "Epoch 14/100\n",
      "90/90 [==============================] - 0s 3ms/step - loss: 0.4254 - accuracy: 0.7953 - val_loss: 0.4550 - val_accuracy: 0.8000\n",
      "Epoch 15/100\n",
      "90/90 [==============================] - 0s 3ms/step - loss: 0.4252 - accuracy: 0.7967 - val_loss: 0.4550 - val_accuracy: 0.8027\n",
      "Epoch 16/100\n",
      "90/90 [==============================] - 0s 3ms/step - loss: 0.4249 - accuracy: 0.7971 - val_loss: 0.4547 - val_accuracy: 0.8027\n",
      "Epoch 17/100\n",
      "90/90 [==============================] - 0s 4ms/step - loss: 0.4247 - accuracy: 0.7960 - val_loss: 0.4549 - val_accuracy: 0.8027\n",
      "Epoch 18/100\n",
      "90/90 [==============================] - 0s 4ms/step - loss: 0.4243 - accuracy: 0.7980 - val_loss: 0.4546 - val_accuracy: 0.8018\n",
      "Epoch 19/100\n",
      "90/90 [==============================] - 0s 2ms/step - loss: 0.4244 - accuracy: 0.7956 - val_loss: 0.4546 - val_accuracy: 0.8044\n",
      "Epoch 20/100\n",
      "90/90 [==============================] - 0s 3ms/step - loss: 0.4241 - accuracy: 0.7956 - val_loss: 0.4546 - val_accuracy: 0.8027\n",
      "Epoch 21/100\n",
      "90/90 [==============================] - 0s 4ms/step - loss: 0.4238 - accuracy: 0.7958 - val_loss: 0.4541 - val_accuracy: 0.8036\n",
      "Epoch 22/100\n",
      "90/90 [==============================] - 0s 4ms/step - loss: 0.4237 - accuracy: 0.7960 - val_loss: 0.4543 - val_accuracy: 0.8044\n",
      "Epoch 23/100\n",
      "90/90 [==============================] - 0s 3ms/step - loss: 0.4233 - accuracy: 0.7947 - val_loss: 0.4560 - val_accuracy: 0.7991\n",
      "Epoch 24/100\n",
      "90/90 [==============================] - 0s 3ms/step - loss: 0.4234 - accuracy: 0.7969 - val_loss: 0.4543 - val_accuracy: 0.7991\n",
      "Epoch 25/100\n",
      "90/90 [==============================] - 0s 3ms/step - loss: 0.4231 - accuracy: 0.7956 - val_loss: 0.4549 - val_accuracy: 0.8027\n",
      "Epoch 26/100\n",
      "90/90 [==============================] - 0s 3ms/step - loss: 0.4230 - accuracy: 0.7936 - val_loss: 0.4539 - val_accuracy: 0.8036\n",
      "Epoch 27/100\n",
      "90/90 [==============================] - 0s 3ms/step - loss: 0.4229 - accuracy: 0.7967 - val_loss: 0.4540 - val_accuracy: 0.8018\n",
      "Epoch 28/100\n",
      "90/90 [==============================] - 0s 4ms/step - loss: 0.4231 - accuracy: 0.7942 - val_loss: 0.4540 - val_accuracy: 0.7991\n",
      "Epoch 29/100\n",
      "90/90 [==============================] - 0s 4ms/step - loss: 0.4222 - accuracy: 0.7956 - val_loss: 0.4546 - val_accuracy: 0.8036\n",
      "Epoch 30/100\n",
      "90/90 [==============================] - 0s 3ms/step - loss: 0.4223 - accuracy: 0.7964 - val_loss: 0.4539 - val_accuracy: 0.8036\n",
      "Epoch 31/100\n",
      "90/90 [==============================] - 0s 3ms/step - loss: 0.4219 - accuracy: 0.7944 - val_loss: 0.4536 - val_accuracy: 0.8036\n",
      "Epoch 32/100\n",
      "90/90 [==============================] - 0s 3ms/step - loss: 0.4217 - accuracy: 0.7951 - val_loss: 0.4535 - val_accuracy: 0.8027\n",
      "Epoch 33/100\n",
      "90/90 [==============================] - 0s 3ms/step - loss: 0.4217 - accuracy: 0.7947 - val_loss: 0.4537 - val_accuracy: 0.8018\n",
      "Epoch 34/100\n",
      "90/90 [==============================] - 0s 3ms/step - loss: 0.4214 - accuracy: 0.7938 - val_loss: 0.4534 - val_accuracy: 0.8036\n",
      "Epoch 35/100\n",
      "90/90 [==============================] - 0s 3ms/step - loss: 0.4212 - accuracy: 0.7933 - val_loss: 0.4538 - val_accuracy: 0.8044\n",
      "Epoch 36/100\n",
      "90/90 [==============================] - 0s 4ms/step - loss: 0.4210 - accuracy: 0.7973 - val_loss: 0.4534 - val_accuracy: 0.8018\n",
      "Epoch 37/100\n",
      "90/90 [==============================] - 0s 3ms/step - loss: 0.4207 - accuracy: 0.7944 - val_loss: 0.4536 - val_accuracy: 0.7991\n",
      "Epoch 38/100\n",
      "90/90 [==============================] - 0s 3ms/step - loss: 0.4208 - accuracy: 0.7924 - val_loss: 0.4532 - val_accuracy: 0.8018\n",
      "Epoch 39/100\n",
      "90/90 [==============================] - 0s 4ms/step - loss: 0.4203 - accuracy: 0.7942 - val_loss: 0.4531 - val_accuracy: 0.8018\n",
      "Epoch 40/100\n",
      "90/90 [==============================] - 0s 3ms/step - loss: 0.4204 - accuracy: 0.7931 - val_loss: 0.4534 - val_accuracy: 0.8018\n",
      "Epoch 41/100\n",
      "90/90 [==============================] - 0s 3ms/step - loss: 0.4200 - accuracy: 0.7951 - val_loss: 0.4536 - val_accuracy: 0.8027\n",
      "Epoch 42/100\n",
      "90/90 [==============================] - 0s 4ms/step - loss: 0.4200 - accuracy: 0.7942 - val_loss: 0.4534 - val_accuracy: 0.7991\n",
      "Epoch 43/100\n",
      "90/90 [==============================] - 0s 3ms/step - loss: 0.4198 - accuracy: 0.7931 - val_loss: 0.4536 - val_accuracy: 0.8000\n",
      "Epoch 44/100\n",
      "90/90 [==============================] - 0s 3ms/step - loss: 0.4197 - accuracy: 0.7947 - val_loss: 0.4535 - val_accuracy: 0.8000\n",
      "Epoch 45/100\n",
      "90/90 [==============================] - 0s 4ms/step - loss: 0.4196 - accuracy: 0.7938 - val_loss: 0.4538 - val_accuracy: 0.8000\n",
      "Epoch 46/100\n",
      "90/90 [==============================] - 0s 4ms/step - loss: 0.4194 - accuracy: 0.7924 - val_loss: 0.4534 - val_accuracy: 0.8018\n",
      "Epoch 47/100\n",
      "90/90 [==============================] - 0s 5ms/step - loss: 0.4194 - accuracy: 0.7938 - val_loss: 0.4532 - val_accuracy: 0.8009\n",
      "Epoch 48/100\n",
      "90/90 [==============================] - 0s 4ms/step - loss: 0.4194 - accuracy: 0.7931 - val_loss: 0.4534 - val_accuracy: 0.8009\n",
      "Epoch 49/100\n",
      "90/90 [==============================] - 0s 4ms/step - loss: 0.4192 - accuracy: 0.7929 - val_loss: 0.4530 - val_accuracy: 0.8018\n",
      "Epoch 50/100\n",
      "90/90 [==============================] - 0s 3ms/step - loss: 0.4191 - accuracy: 0.7944 - val_loss: 0.4532 - val_accuracy: 0.8009\n",
      "Epoch 51/100\n",
      "90/90 [==============================] - 0s 3ms/step - loss: 0.4184 - accuracy: 0.7944 - val_loss: 0.4532 - val_accuracy: 0.8009\n",
      "Epoch 52/100\n",
      "90/90 [==============================] - 0s 2ms/step - loss: 0.4183 - accuracy: 0.7953 - val_loss: 0.4537 - val_accuracy: 0.7973\n",
      "Epoch 53/100\n",
      "90/90 [==============================] - 0s 3ms/step - loss: 0.4183 - accuracy: 0.7940 - val_loss: 0.4535 - val_accuracy: 0.7991\n",
      "Epoch 54/100\n",
      "90/90 [==============================] - 0s 4ms/step - loss: 0.4180 - accuracy: 0.7956 - val_loss: 0.4536 - val_accuracy: 0.7973\n",
      "Epoch 55/100\n",
      "90/90 [==============================] - 0s 3ms/step - loss: 0.4177 - accuracy: 0.7938 - val_loss: 0.4547 - val_accuracy: 0.7991\n",
      "Epoch 56/100\n",
      "90/90 [==============================] - 0s 4ms/step - loss: 0.4184 - accuracy: 0.7938 - val_loss: 0.4538 - val_accuracy: 0.7982\n",
      "Epoch 57/100\n",
      "90/90 [==============================] - 0s 3ms/step - loss: 0.4181 - accuracy: 0.7960 - val_loss: 0.4539 - val_accuracy: 0.7964\n",
      "Epoch 58/100\n",
      "90/90 [==============================] - 0s 3ms/step - loss: 0.4176 - accuracy: 0.7938 - val_loss: 0.4541 - val_accuracy: 0.7947\n",
      "Epoch 59/100\n",
      "90/90 [==============================] - 0s 2ms/step - loss: 0.4179 - accuracy: 0.7931 - val_loss: 0.4536 - val_accuracy: 0.7956\n",
      "Epoch 60/100\n",
      "90/90 [==============================] - 0s 2ms/step - loss: 0.4173 - accuracy: 0.7951 - val_loss: 0.4537 - val_accuracy: 0.7956\n",
      "Epoch 61/100\n",
      "90/90 [==============================] - 0s 2ms/step - loss: 0.4173 - accuracy: 0.7960 - val_loss: 0.4539 - val_accuracy: 0.7973\n",
      "Epoch 62/100\n",
      "90/90 [==============================] - 0s 3ms/step - loss: 0.4170 - accuracy: 0.7944 - val_loss: 0.4539 - val_accuracy: 0.7956\n",
      "Epoch 63/100\n",
      "90/90 [==============================] - 0s 4ms/step - loss: 0.4171 - accuracy: 0.7953 - val_loss: 0.4535 - val_accuracy: 0.7947\n",
      "Epoch 64/100\n",
      "90/90 [==============================] - 0s 4ms/step - loss: 0.4169 - accuracy: 0.7958 - val_loss: 0.4540 - val_accuracy: 0.7938\n",
      "Epoch 65/100\n",
      "90/90 [==============================] - 0s 3ms/step - loss: 0.4170 - accuracy: 0.7964 - val_loss: 0.4538 - val_accuracy: 0.7947\n",
      "Epoch 66/100\n",
      "90/90 [==============================] - 0s 5ms/step - loss: 0.4166 - accuracy: 0.7976 - val_loss: 0.4537 - val_accuracy: 0.7956\n",
      "Epoch 67/100\n",
      "90/90 [==============================] - 1s 6ms/step - loss: 0.4167 - accuracy: 0.7942 - val_loss: 0.4538 - val_accuracy: 0.7956\n",
      "Epoch 68/100\n",
      "90/90 [==============================] - 1s 8ms/step - loss: 0.4163 - accuracy: 0.7951 - val_loss: 0.4537 - val_accuracy: 0.7964\n",
      "Epoch 69/100\n",
      "90/90 [==============================] - 1s 6ms/step - loss: 0.4162 - accuracy: 0.7969 - val_loss: 0.4540 - val_accuracy: 0.7938\n",
      "Epoch 70/100\n",
      "90/90 [==============================] - 1s 10ms/step - loss: 0.4165 - accuracy: 0.7971 - val_loss: 0.4540 - val_accuracy: 0.7938\n",
      "Epoch 71/100\n",
      "90/90 [==============================] - 1s 10ms/step - loss: 0.4160 - accuracy: 0.7976 - val_loss: 0.4543 - val_accuracy: 0.7947\n",
      "Epoch 72/100\n",
      "90/90 [==============================] - 1s 9ms/step - loss: 0.4158 - accuracy: 0.7962 - val_loss: 0.4542 - val_accuracy: 0.7929\n",
      "Epoch 73/100\n",
      "90/90 [==============================] - 1s 6ms/step - loss: 0.4157 - accuracy: 0.7969 - val_loss: 0.4540 - val_accuracy: 0.7929\n",
      "Epoch 74/100\n",
      "90/90 [==============================] - 0s 5ms/step - loss: 0.4157 - accuracy: 0.7951 - val_loss: 0.4542 - val_accuracy: 0.7947\n",
      "Epoch 75/100\n",
      "90/90 [==============================] - 0s 6ms/step - loss: 0.4153 - accuracy: 0.7973 - val_loss: 0.4544 - val_accuracy: 0.7938\n",
      "Epoch 76/100\n",
      "90/90 [==============================] - 0s 5ms/step - loss: 0.4154 - accuracy: 0.7971 - val_loss: 0.4543 - val_accuracy: 0.7938\n",
      "Epoch 77/100\n",
      "90/90 [==============================] - 0s 4ms/step - loss: 0.4154 - accuracy: 0.7973 - val_loss: 0.4544 - val_accuracy: 0.7902\n",
      "Epoch 78/100\n",
      "90/90 [==============================] - 0s 5ms/step - loss: 0.4151 - accuracy: 0.7967 - val_loss: 0.4543 - val_accuracy: 0.7929\n",
      "Epoch 79/100\n",
      "90/90 [==============================] - 0s 3ms/step - loss: 0.4151 - accuracy: 0.7978 - val_loss: 0.4544 - val_accuracy: 0.7956\n",
      "Epoch 80/100\n",
      "90/90 [==============================] - 0s 3ms/step - loss: 0.4152 - accuracy: 0.7982 - val_loss: 0.4546 - val_accuracy: 0.7911\n",
      "Epoch 81/100\n",
      "90/90 [==============================] - 0s 3ms/step - loss: 0.4152 - accuracy: 0.8000 - val_loss: 0.4551 - val_accuracy: 0.7947\n",
      "Epoch 82/100\n",
      "90/90 [==============================] - 0s 3ms/step - loss: 0.4147 - accuracy: 0.7980 - val_loss: 0.4550 - val_accuracy: 0.7911\n",
      "Epoch 83/100\n",
      "90/90 [==============================] - 0s 5ms/step - loss: 0.4147 - accuracy: 0.7967 - val_loss: 0.4544 - val_accuracy: 0.7893\n",
      "Epoch 84/100\n",
      "90/90 [==============================] - 0s 4ms/step - loss: 0.4144 - accuracy: 0.7971 - val_loss: 0.4546 - val_accuracy: 0.7902\n",
      "Epoch 85/100\n",
      "90/90 [==============================] - 0s 5ms/step - loss: 0.4143 - accuracy: 0.7973 - val_loss: 0.4550 - val_accuracy: 0.7938\n",
      "Epoch 86/100\n",
      "90/90 [==============================] - 0s 4ms/step - loss: 0.4143 - accuracy: 0.7984 - val_loss: 0.4550 - val_accuracy: 0.7929\n",
      "Epoch 87/100\n",
      "90/90 [==============================] - 0s 5ms/step - loss: 0.4146 - accuracy: 0.7991 - val_loss: 0.4547 - val_accuracy: 0.7920\n",
      "Epoch 88/100\n",
      "90/90 [==============================] - 0s 5ms/step - loss: 0.4141 - accuracy: 0.7989 - val_loss: 0.4547 - val_accuracy: 0.7920\n",
      "Epoch 89/100\n",
      "90/90 [==============================] - 1s 7ms/step - loss: 0.4140 - accuracy: 0.7996 - val_loss: 0.4549 - val_accuracy: 0.7920\n",
      "Epoch 90/100\n",
      "90/90 [==============================] - 1s 7ms/step - loss: 0.4138 - accuracy: 0.7984 - val_loss: 0.4549 - val_accuracy: 0.7893\n",
      "Epoch 91/100\n",
      "90/90 [==============================] - 0s 5ms/step - loss: 0.4139 - accuracy: 0.7978 - val_loss: 0.4549 - val_accuracy: 0.7911\n",
      "Epoch 92/100\n",
      "90/90 [==============================] - 0s 4ms/step - loss: 0.4138 - accuracy: 0.7982 - val_loss: 0.4552 - val_accuracy: 0.7893\n",
      "Epoch 93/100\n",
      "90/90 [==============================] - 1s 7ms/step - loss: 0.4135 - accuracy: 0.7982 - val_loss: 0.4550 - val_accuracy: 0.7929\n",
      "Epoch 94/100\n",
      "90/90 [==============================] - 0s 5ms/step - loss: 0.4135 - accuracy: 0.7978 - val_loss: 0.4555 - val_accuracy: 0.7911\n",
      "Epoch 95/100\n",
      "90/90 [==============================] - 0s 5ms/step - loss: 0.4140 - accuracy: 0.7991 - val_loss: 0.4552 - val_accuracy: 0.7920\n",
      "Epoch 96/100\n",
      "90/90 [==============================] - 0s 4ms/step - loss: 0.4135 - accuracy: 0.7996 - val_loss: 0.4549 - val_accuracy: 0.7929\n",
      "Epoch 97/100\n",
      "90/90 [==============================] - 0s 4ms/step - loss: 0.4134 - accuracy: 0.7987 - val_loss: 0.4554 - val_accuracy: 0.7929\n",
      "Epoch 98/100\n",
      "90/90 [==============================] - 0s 5ms/step - loss: 0.4135 - accuracy: 0.8004 - val_loss: 0.4556 - val_accuracy: 0.7920\n",
      "Epoch 99/100\n",
      "90/90 [==============================] - 1s 6ms/step - loss: 0.4132 - accuracy: 0.8007 - val_loss: 0.4551 - val_accuracy: 0.7920\n",
      "Epoch 100/100\n",
      "90/90 [==============================] - 0s 4ms/step - loss: 0.4130 - accuracy: 0.7991 - val_loss: 0.4554 - val_accuracy: 0.7911\n"
     ]
    }
   ],
   "source": [
    "history=churn_model.fit(X_train_reshaped,y_train,batch_size=50,epochs=100,verbose=1,validation_split=0.2)"
   ]
  },
  {
   "cell_type": "code",
   "execution_count": 55,
   "id": "27a65240-d808-43d9-bb96-c045a1115f0b",
   "metadata": {},
   "outputs": [
    {
     "data": {
      "text/plain": [
       "[array([[ 0.04467192, -0.05747659,  0.20001557,  0.3766802 , -0.00686572,\n",
       "         -0.4752124 , -0.29064754, -0.17669551, -0.03863845, -0.07768527,\n",
       "         -0.1832674 ],\n",
       "        [ 0.30790988, -0.36934525, -0.15041369,  0.02511149, -0.1409024 ,\n",
       "         -0.32159272, -0.14026825,  0.27085924,  0.27065954,  1.229024  ,\n",
       "          0.4128856 ],\n",
       "        [ 0.02496289,  0.5224071 , -0.83107144, -0.6884931 , -0.34976244,\n",
       "          0.20100173,  0.26395774,  0.3444421 , -0.46380892,  0.1950878 ,\n",
       "          0.01067567],\n",
       "        [-0.45937124,  0.12627354,  0.518826  ,  0.3564059 ,  0.07692149,\n",
       "         -0.36347404,  0.13862075,  0.35846525,  0.24928835,  0.21244925,\n",
       "          0.08780055],\n",
       "        [ 0.00457212,  0.6940148 ,  0.65868   ,  0.48053   , -1.2696425 ,\n",
       "          3.1749568 ,  0.82719237,  0.3359812 ,  1.593978  , -1.4282169 ,\n",
       "          0.0881476 ],\n",
       "        [-1.2221972 ,  0.10457237, -0.8274543 , -0.30453607,  0.06698291,\n",
       "         -0.39312938,  0.13817286,  0.4785494 ,  0.4800109 , -0.14446749,\n",
       "         -0.08967427],\n",
       "        [-0.4990842 , -0.13909522, -0.06224088, -0.367458  ,  0.3772704 ,\n",
       "          0.6711483 ,  0.7755779 , -0.24578516, -0.5027145 , -0.62377304,\n",
       "         -0.03796333],\n",
       "        [-4.160375  ,  1.1140167 ,  1.7351545 ,  1.4249079 , -0.4225386 ,\n",
       "          0.34291464,  0.46459422,  0.7775665 , -0.35391247, -0.34297898,\n",
       "          1.8743712 ],\n",
       "        [-0.30688086,  2.798997  ,  0.20251602,  0.32883438,  1.0781103 ,\n",
       "          0.54851484,  0.58053   , -0.25061223, -0.45844153, -0.02626281,\n",
       "         -0.23553163],\n",
       "        [-0.04195444,  0.08819754, -0.53427756,  0.02622398, -0.31266442,\n",
       "          0.11710347, -0.10536171,  0.43462446, -0.72968525, -0.49171597,\n",
       "         -0.04544362],\n",
       "        [ 0.01622272,  0.38846642,  0.17589058, -0.09238308,  0.28068295,\n",
       "         -0.48831612,  1.0670327 , -0.72510695, -0.24904844,  0.31755698,\n",
       "          0.07406604]], dtype=float32),\n",
       " array([-1.2948904 , -1.0221007 , -1.6919972 , -1.1783402 , -0.2709861 ,\n",
       "        -0.54330486,  0.11061303, -0.3822585 ,  0.3483309 , -0.7510155 ,\n",
       "        -1.2551422 ], dtype=float32)]"
      ]
     },
     "execution_count": 55,
     "metadata": {},
     "output_type": "execute_result"
    }
   ],
   "source": [
    "churn_model.layers[0].get_weights()"
   ]
  },
  {
   "cell_type": "code",
   "execution_count": 56,
   "id": "29f51934-9304-4046-b17a-f00cfba73c12",
   "metadata": {},
   "outputs": [
    {
     "name": "stdout",
     "output_type": "stream",
     "text": [
      "44/44 [==============================] - 0s 2ms/step\n"
     ]
    }
   ],
   "source": [
    "y_log = churn_model.predict(X_test_reshaped)"
   ]
  },
  {
   "cell_type": "code",
   "execution_count": 57,
   "id": "3f9923c4-bca4-427b-9ec4-abb4496217f5",
   "metadata": {},
   "outputs": [],
   "source": [
    "y_pred=np.where(y_log>0.5, 1, 0) #making it easier to understand by changing the sigmoid output"
   ]
  },
  {
   "cell_type": "code",
   "execution_count": 58,
   "id": "4d9d7522-1420-4e00-a059-d39c937e1992",
   "metadata": {},
   "outputs": [
    {
     "data": {
      "text/plain": [
       "0.7974413646055437"
      ]
     },
     "execution_count": 58,
     "metadata": {},
     "output_type": "execute_result"
    }
   ],
   "source": [
    "from sklearn.metrics import accuracy_score\n",
    "accuracy_score(y_test,y_pred)  #seeing the accuracy score"
   ]
  },
  {
   "cell_type": "code",
   "execution_count": 59,
   "id": "87bcdaa5-26f8-43d4-8997-9bd660f4779a",
   "metadata": {},
   "outputs": [
    {
     "data": {
      "text/plain": [
       "[<matplotlib.lines.Line2D at 0x1f223bcc490>]"
      ]
     },
     "execution_count": 59,
     "metadata": {},
     "output_type": "execute_result"
    },
    {
     "data": {
      "image/png": "[encoded data removed]",
      "text/plain": [
       "<Figure size 640x480 with 1 Axes>"
      ]
     },
     "metadata": {},
     "output_type": "display_data"
    }
   ],
   "source": [
    "plt.plot(history.history['loss'])\n",
    "plt.plot(history.history['val_loss']) #seeing our model plotted"
   ]
  },
  {
   "cell_type": "code",
   "execution_count": 60,
   "id": "13e6ba60-8cc3-4976-bc83-4b143d13095e",
   "metadata": {},
   "outputs": [
    {
     "data": {
      "text/plain": [
       "[<matplotlib.lines.Line2D at 0x1f21cf34f10>]"
      ]
     },
     "execution_count": 60,
     "metadata": {},
     "output_type": "execute_result"
    },
    {
     "data": {
      "image/png": "[encoded data removed]",
      "text/plain": [
       "<Figure size 640x480 with 1 Axes>"
      ]
     },
     "metadata": {},
     "output_type": "display_data"
    }
   ],
   "source": [
    "plt.plot(history.history['accuracy'])\n",
    "plt.plot(history.history['val_accuracy'])"
   ]
  },
  {
   "cell_type": "markdown",
   "id": "1e3af585-cb75-4f9f-89cf-d7e891fbb216",
   "metadata": {},
   "source": [
    "**as we can see the model is actually is not very good from the graphs where sigmoid was used in hidden layers so we will make one newer one with relu activation**"
   ]
  },
  {
   "cell_type": "code",
   "execution_count": 61,
   "id": "abb95cfa-6f31-46f8-ad1f-78b4392508b7",
   "metadata": {},
   "outputs": [],
   "source": [
    "final_model = sq()"
   ]
  },
  {
   "cell_type": "code",
   "execution_count": 62,
   "id": "293f69fa-c0d3-4997-bf96-1e6ab20fcc87",
   "metadata": {},
   "outputs": [
    {
     "name": "stdout",
     "output_type": "stream",
     "text": [
      "Model: \"sequential_1\"\n",
      "_________________________________________________________________\n",
      " Layer (type)                Output Shape              Param #   \n",
      "=================================================================\n",
      " dense_3 (Dense)             (None, 11)                132       \n",
      "                                                                 \n",
      " dense_4 (Dense)             (None, 11)                132       \n",
      "                                                                 \n",
      " dense_5 (Dense)             (None, 1)                 12        \n",
      "                                                                 \n",
      "=================================================================\n",
      "Total params: 276 (1.08 KB)\n",
      "Trainable params: 276 (1.08 KB)\n",
      "Non-trainable params: 0 (0.00 Byte)\n",
      "_________________________________________________________________\n"
     ]
    }
   ],
   "source": [
    "final_model.add(Dense(11,activation='relu',input_dim=11))\n",
    "final_model.add(Dense(11,activation='relu'))\n",
    "final_model.add(Dense(1,activation='sigmoid'))\n",
    "\n",
    "final_model.summary()"
   ]
  },
  {
   "cell_type": "code",
   "execution_count": 63,
   "id": "9db304bd-2f21-49a8-a202-c9d613e8859a",
   "metadata": {},
   "outputs": [],
   "source": [
    "final_model.compile(loss='binary_crossentropy',optimizer='Adam',metrics=['accuracy'])"
   ]
  },
  {
   "cell_type": "code",
   "execution_count": 64,
   "id": "5c824f9e-636d-4ad6-9a7b-c39ad61b494e",
   "metadata": {},
   "outputs": [
    {
     "name": "stdout",
     "output_type": "stream",
     "text": [
      "Epoch 1/100\n",
      "90/90 [==============================] - 2s 6ms/step - loss: 0.5898 - accuracy: 0.6902 - val_loss: 0.5405 - val_accuracy: 0.7582\n",
      "Epoch 2/100\n",
      "90/90 [==============================] - 0s 3ms/step - loss: 0.5145 - accuracy: 0.7460 - val_loss: 0.5089 - val_accuracy: 0.7769\n",
      "Epoch 3/100\n",
      "90/90 [==============================] - 0s 4ms/step - loss: 0.4883 - accuracy: 0.7600 - val_loss: 0.4952 - val_accuracy: 0.7742\n",
      "Epoch 4/100\n",
      "90/90 [==============================] - 0s 3ms/step - loss: 0.4749 - accuracy: 0.7644 - val_loss: 0.4869 - val_accuracy: 0.7733\n",
      "Epoch 5/100\n",
      "90/90 [==============================] - 0s 3ms/step - loss: 0.4655 - accuracy: 0.7778 - val_loss: 0.4820 - val_accuracy: 0.7751\n",
      "Epoch 6/100\n",
      "90/90 [==============================] - 0s 3ms/step - loss: 0.4586 - accuracy: 0.7833 - val_loss: 0.4782 - val_accuracy: 0.7804\n",
      "Epoch 7/100\n",
      "90/90 [==============================] - 0s 3ms/step - loss: 0.4528 - accuracy: 0.7871 - val_loss: 0.4744 - val_accuracy: 0.7849\n",
      "Epoch 8/100\n",
      "90/90 [==============================] - 0s 3ms/step - loss: 0.4465 - accuracy: 0.7918 - val_loss: 0.4742 - val_accuracy: 0.7867\n",
      "Epoch 9/100\n",
      "90/90 [==============================] - 0s 3ms/step - loss: 0.4431 - accuracy: 0.7929 - val_loss: 0.4692 - val_accuracy: 0.7884\n",
      "Epoch 10/100\n",
      "90/90 [==============================] - 0s 4ms/step - loss: 0.4386 - accuracy: 0.7927 - val_loss: 0.4679 - val_accuracy: 0.7938\n",
      "Epoch 11/100\n",
      "90/90 [==============================] - 0s 3ms/step - loss: 0.4358 - accuracy: 0.7958 - val_loss: 0.4654 - val_accuracy: 0.7911\n",
      "Epoch 12/100\n",
      "90/90 [==============================] - 0s 3ms/step - loss: 0.4334 - accuracy: 0.7933 - val_loss: 0.4647 - val_accuracy: 0.7938\n",
      "Epoch 13/100\n",
      "90/90 [==============================] - 0s 2ms/step - loss: 0.4316 - accuracy: 0.7944 - val_loss: 0.4640 - val_accuracy: 0.7964\n",
      "Epoch 14/100\n",
      "90/90 [==============================] - 0s 3ms/step - loss: 0.4292 - accuracy: 0.7951 - val_loss: 0.4630 - val_accuracy: 0.7982\n",
      "Epoch 15/100\n",
      "90/90 [==============================] - 0s 3ms/step - loss: 0.4279 - accuracy: 0.7951 - val_loss: 0.4639 - val_accuracy: 0.7956\n",
      "Epoch 16/100\n",
      "90/90 [==============================] - 0s 2ms/step - loss: 0.4268 - accuracy: 0.7969 - val_loss: 0.4625 - val_accuracy: 0.7973\n",
      "Epoch 17/100\n",
      "90/90 [==============================] - 0s 3ms/step - loss: 0.4250 - accuracy: 0.7944 - val_loss: 0.4632 - val_accuracy: 0.7947\n",
      "Epoch 18/100\n",
      "90/90 [==============================] - 0s 3ms/step - loss: 0.4254 - accuracy: 0.7976 - val_loss: 0.4614 - val_accuracy: 0.7893\n",
      "Epoch 19/100\n",
      "90/90 [==============================] - 0s 3ms/step - loss: 0.4241 - accuracy: 0.7920 - val_loss: 0.4612 - val_accuracy: 0.7947\n",
      "Epoch 20/100\n",
      "90/90 [==============================] - 0s 2ms/step - loss: 0.4227 - accuracy: 0.7951 - val_loss: 0.4614 - val_accuracy: 0.7876\n",
      "Epoch 21/100\n",
      "90/90 [==============================] - 0s 2ms/step - loss: 0.4218 - accuracy: 0.7964 - val_loss: 0.4613 - val_accuracy: 0.7956\n",
      "Epoch 22/100\n",
      "90/90 [==============================] - 0s 3ms/step - loss: 0.4210 - accuracy: 0.7967 - val_loss: 0.4620 - val_accuracy: 0.7929\n",
      "Epoch 23/100\n",
      "90/90 [==============================] - 0s 3ms/step - loss: 0.4202 - accuracy: 0.7967 - val_loss: 0.4620 - val_accuracy: 0.7947\n",
      "Epoch 24/100\n",
      "90/90 [==============================] - 0s 3ms/step - loss: 0.4206 - accuracy: 0.7993 - val_loss: 0.4638 - val_accuracy: 0.7947\n",
      "Epoch 25/100\n",
      "90/90 [==============================] - 0s 3ms/step - loss: 0.4191 - accuracy: 0.7964 - val_loss: 0.4624 - val_accuracy: 0.7929\n",
      "Epoch 26/100\n",
      "90/90 [==============================] - 0s 4ms/step - loss: 0.4190 - accuracy: 0.7993 - val_loss: 0.4626 - val_accuracy: 0.7902\n",
      "Epoch 27/100\n",
      "90/90 [==============================] - 0s 3ms/step - loss: 0.4188 - accuracy: 0.7984 - val_loss: 0.4618 - val_accuracy: 0.7893\n",
      "Epoch 28/100\n",
      "90/90 [==============================] - 0s 5ms/step - loss: 0.4178 - accuracy: 0.7973 - val_loss: 0.4627 - val_accuracy: 0.7938\n",
      "Epoch 29/100\n",
      "90/90 [==============================] - 0s 4ms/step - loss: 0.4174 - accuracy: 0.8004 - val_loss: 0.4636 - val_accuracy: 0.7929\n",
      "Epoch 30/100\n",
      "90/90 [==============================] - 0s 4ms/step - loss: 0.4174 - accuracy: 0.7987 - val_loss: 0.4624 - val_accuracy: 0.7893\n",
      "Epoch 31/100\n",
      "90/90 [==============================] - 0s 3ms/step - loss: 0.4174 - accuracy: 0.8002 - val_loss: 0.4638 - val_accuracy: 0.7849\n",
      "Epoch 32/100\n",
      "90/90 [==============================] - 0s 3ms/step - loss: 0.4167 - accuracy: 0.8016 - val_loss: 0.4618 - val_accuracy: 0.7849\n",
      "Epoch 33/100\n",
      "90/90 [==============================] - 0s 5ms/step - loss: 0.4167 - accuracy: 0.7980 - val_loss: 0.4636 - val_accuracy: 0.7911\n",
      "Epoch 34/100\n",
      "90/90 [==============================] - 0s 3ms/step - loss: 0.4155 - accuracy: 0.8016 - val_loss: 0.4618 - val_accuracy: 0.7840\n",
      "Epoch 35/100\n",
      "90/90 [==============================] - 0s 3ms/step - loss: 0.4159 - accuracy: 0.8011 - val_loss: 0.4628 - val_accuracy: 0.7831\n",
      "Epoch 36/100\n",
      "90/90 [==============================] - 0s 3ms/step - loss: 0.4154 - accuracy: 0.8004 - val_loss: 0.4645 - val_accuracy: 0.7920\n",
      "Epoch 37/100\n",
      "90/90 [==============================] - 0s 2ms/step - loss: 0.4148 - accuracy: 0.7996 - val_loss: 0.4631 - val_accuracy: 0.7902\n",
      "Epoch 38/100\n",
      "90/90 [==============================] - 0s 4ms/step - loss: 0.4140 - accuracy: 0.7996 - val_loss: 0.4621 - val_accuracy: 0.7858\n",
      "Epoch 39/100\n",
      "90/90 [==============================] - 1s 6ms/step - loss: 0.4143 - accuracy: 0.8016 - val_loss: 0.4623 - val_accuracy: 0.7911\n",
      "Epoch 40/100\n",
      "90/90 [==============================] - 0s 3ms/step - loss: 0.4144 - accuracy: 0.8009 - val_loss: 0.4626 - val_accuracy: 0.7902\n",
      "Epoch 41/100\n",
      "90/90 [==============================] - 0s 2ms/step - loss: 0.4135 - accuracy: 0.8016 - val_loss: 0.4638 - val_accuracy: 0.7947\n",
      "Epoch 42/100\n",
      "90/90 [==============================] - 0s 3ms/step - loss: 0.4132 - accuracy: 0.8009 - val_loss: 0.4632 - val_accuracy: 0.7902\n",
      "Epoch 43/100\n",
      "90/90 [==============================] - 0s 3ms/step - loss: 0.4132 - accuracy: 0.8009 - val_loss: 0.4629 - val_accuracy: 0.7920\n",
      "Epoch 44/100\n",
      "90/90 [==============================] - 0s 3ms/step - loss: 0.4130 - accuracy: 0.8022 - val_loss: 0.4634 - val_accuracy: 0.7867\n",
      "Epoch 45/100\n",
      "90/90 [==============================] - 0s 3ms/step - loss: 0.4125 - accuracy: 0.8031 - val_loss: 0.4628 - val_accuracy: 0.7893\n",
      "Epoch 46/100\n",
      "90/90 [==============================] - 0s 3ms/step - loss: 0.4120 - accuracy: 0.8044 - val_loss: 0.4647 - val_accuracy: 0.7938\n",
      "Epoch 47/100\n",
      "90/90 [==============================] - 0s 2ms/step - loss: 0.4120 - accuracy: 0.8033 - val_loss: 0.4664 - val_accuracy: 0.7911\n",
      "Epoch 48/100\n",
      "90/90 [==============================] - 0s 3ms/step - loss: 0.4122 - accuracy: 0.7998 - val_loss: 0.4624 - val_accuracy: 0.7867\n",
      "Epoch 49/100\n",
      "90/90 [==============================] - 0s 4ms/step - loss: 0.4118 - accuracy: 0.8038 - val_loss: 0.4654 - val_accuracy: 0.7964\n",
      "Epoch 50/100\n",
      "90/90 [==============================] - 0s 3ms/step - loss: 0.4112 - accuracy: 0.8018 - val_loss: 0.4636 - val_accuracy: 0.7893\n",
      "Epoch 51/100\n",
      "90/90 [==============================] - 0s 2ms/step - loss: 0.4108 - accuracy: 0.8067 - val_loss: 0.4645 - val_accuracy: 0.7929\n",
      "Epoch 52/100\n",
      "90/90 [==============================] - 0s 3ms/step - loss: 0.4111 - accuracy: 0.8036 - val_loss: 0.4635 - val_accuracy: 0.7813\n",
      "Epoch 53/100\n",
      "90/90 [==============================] - 0s 3ms/step - loss: 0.4101 - accuracy: 0.8033 - val_loss: 0.4646 - val_accuracy: 0.7831\n",
      "Epoch 54/100\n",
      "90/90 [==============================] - 0s 3ms/step - loss: 0.4096 - accuracy: 0.8080 - val_loss: 0.4635 - val_accuracy: 0.7822\n",
      "Epoch 55/100\n",
      "90/90 [==============================] - 0s 3ms/step - loss: 0.4097 - accuracy: 0.8051 - val_loss: 0.4636 - val_accuracy: 0.7902\n",
      "Epoch 56/100\n",
      "90/90 [==============================] - 0s 4ms/step - loss: 0.4097 - accuracy: 0.8044 - val_loss: 0.4633 - val_accuracy: 0.7902\n",
      "Epoch 57/100\n",
      "90/90 [==============================] - 0s 3ms/step - loss: 0.4094 - accuracy: 0.8056 - val_loss: 0.4640 - val_accuracy: 0.7822\n",
      "Epoch 58/100\n",
      "90/90 [==============================] - 0s 4ms/step - loss: 0.4093 - accuracy: 0.8056 - val_loss: 0.4651 - val_accuracy: 0.7867\n",
      "Epoch 59/100\n",
      "90/90 [==============================] - 0s 3ms/step - loss: 0.4098 - accuracy: 0.8036 - val_loss: 0.4638 - val_accuracy: 0.7831\n",
      "Epoch 60/100\n",
      "90/90 [==============================] - 0s 3ms/step - loss: 0.4094 - accuracy: 0.8044 - val_loss: 0.4645 - val_accuracy: 0.7893\n",
      "Epoch 61/100\n",
      "90/90 [==============================] - 0s 2ms/step - loss: 0.4084 - accuracy: 0.8049 - val_loss: 0.4657 - val_accuracy: 0.7929\n",
      "Epoch 62/100\n",
      "90/90 [==============================] - 0s 2ms/step - loss: 0.4089 - accuracy: 0.8044 - val_loss: 0.4640 - val_accuracy: 0.7876\n",
      "Epoch 63/100\n",
      "90/90 [==============================] - 0s 2ms/step - loss: 0.4084 - accuracy: 0.8078 - val_loss: 0.4646 - val_accuracy: 0.7849\n",
      "Epoch 64/100\n",
      "90/90 [==============================] - 0s 2ms/step - loss: 0.4085 - accuracy: 0.8058 - val_loss: 0.4646 - val_accuracy: 0.7804\n",
      "Epoch 65/100\n",
      "90/90 [==============================] - 0s 2ms/step - loss: 0.4085 - accuracy: 0.8087 - val_loss: 0.4649 - val_accuracy: 0.7947\n",
      "Epoch 66/100\n",
      "90/90 [==============================] - 0s 2ms/step - loss: 0.4079 - accuracy: 0.8062 - val_loss: 0.4656 - val_accuracy: 0.7893\n",
      "Epoch 67/100\n",
      "90/90 [==============================] - 0s 2ms/step - loss: 0.4077 - accuracy: 0.8051 - val_loss: 0.4642 - val_accuracy: 0.7840\n",
      "Epoch 68/100\n",
      "90/90 [==============================] - 0s 2ms/step - loss: 0.4072 - accuracy: 0.8078 - val_loss: 0.4640 - val_accuracy: 0.7884\n",
      "Epoch 69/100\n",
      "90/90 [==============================] - 0s 2ms/step - loss: 0.4074 - accuracy: 0.8078 - val_loss: 0.4647 - val_accuracy: 0.7867\n",
      "Epoch 70/100\n",
      "90/90 [==============================] - 0s 2ms/step - loss: 0.4075 - accuracy: 0.8071 - val_loss: 0.4640 - val_accuracy: 0.7876\n",
      "Epoch 71/100\n",
      "90/90 [==============================] - 0s 2ms/step - loss: 0.4068 - accuracy: 0.8053 - val_loss: 0.4653 - val_accuracy: 0.7840\n",
      "Epoch 72/100\n",
      "90/90 [==============================] - 0s 3ms/step - loss: 0.4071 - accuracy: 0.8056 - val_loss: 0.4660 - val_accuracy: 0.7893\n",
      "Epoch 73/100\n",
      "90/90 [==============================] - 0s 3ms/step - loss: 0.4067 - accuracy: 0.8084 - val_loss: 0.4650 - val_accuracy: 0.7902\n",
      "Epoch 74/100\n",
      "90/90 [==============================] - 0s 4ms/step - loss: 0.4063 - accuracy: 0.8098 - val_loss: 0.4659 - val_accuracy: 0.7867\n",
      "Epoch 75/100\n",
      "90/90 [==============================] - 0s 3ms/step - loss: 0.4061 - accuracy: 0.8080 - val_loss: 0.4656 - val_accuracy: 0.7911\n",
      "Epoch 76/100\n",
      "90/90 [==============================] - 0s 2ms/step - loss: 0.4067 - accuracy: 0.8056 - val_loss: 0.4651 - val_accuracy: 0.7876\n",
      "Epoch 77/100\n",
      "90/90 [==============================] - 0s 3ms/step - loss: 0.4063 - accuracy: 0.8087 - val_loss: 0.4654 - val_accuracy: 0.7858\n",
      "Epoch 78/100\n",
      "90/90 [==============================] - 0s 3ms/step - loss: 0.4063 - accuracy: 0.8067 - val_loss: 0.4658 - val_accuracy: 0.7947\n",
      "Epoch 79/100\n",
      "90/90 [==============================] - 0s 4ms/step - loss: 0.4060 - accuracy: 0.8051 - val_loss: 0.4662 - val_accuracy: 0.7884\n",
      "Epoch 80/100\n",
      "90/90 [==============================] - 0s 3ms/step - loss: 0.4057 - accuracy: 0.8071 - val_loss: 0.4651 - val_accuracy: 0.7840\n",
      "Epoch 81/100\n",
      "90/90 [==============================] - 0s 3ms/step - loss: 0.4060 - accuracy: 0.8076 - val_loss: 0.4662 - val_accuracy: 0.7876\n",
      "Epoch 82/100\n",
      "90/90 [==============================] - 0s 4ms/step - loss: 0.4058 - accuracy: 0.8060 - val_loss: 0.4661 - val_accuracy: 0.7858\n",
      "Epoch 83/100\n",
      "90/90 [==============================] - 0s 4ms/step - loss: 0.4062 - accuracy: 0.8071 - val_loss: 0.4664 - val_accuracy: 0.7822\n",
      "Epoch 84/100\n",
      "90/90 [==============================] - 0s 4ms/step - loss: 0.4055 - accuracy: 0.8064 - val_loss: 0.4670 - val_accuracy: 0.7849\n",
      "Epoch 85/100\n",
      "90/90 [==============================] - 0s 2ms/step - loss: 0.4052 - accuracy: 0.8082 - val_loss: 0.4674 - val_accuracy: 0.7893\n",
      "Epoch 86/100\n",
      "90/90 [==============================] - 0s 3ms/step - loss: 0.4048 - accuracy: 0.8098 - val_loss: 0.4666 - val_accuracy: 0.7858\n",
      "Epoch 87/100\n",
      "90/90 [==============================] - 0s 3ms/step - loss: 0.4050 - accuracy: 0.8093 - val_loss: 0.4668 - val_accuracy: 0.7867\n",
      "Epoch 88/100\n",
      "90/90 [==============================] - 0s 3ms/step - loss: 0.4050 - accuracy: 0.8087 - val_loss: 0.4661 - val_accuracy: 0.7831\n",
      "Epoch 89/100\n",
      "90/90 [==============================] - 0s 4ms/step - loss: 0.4051 - accuracy: 0.8080 - val_loss: 0.4693 - val_accuracy: 0.7876\n",
      "Epoch 90/100\n",
      "90/90 [==============================] - 0s 5ms/step - loss: 0.4057 - accuracy: 0.8056 - val_loss: 0.4668 - val_accuracy: 0.7884\n",
      "Epoch 91/100\n",
      "90/90 [==============================] - 1s 6ms/step - loss: 0.4044 - accuracy: 0.8100 - val_loss: 0.4673 - val_accuracy: 0.7911\n",
      "Epoch 92/100\n",
      "90/90 [==============================] - 0s 4ms/step - loss: 0.4042 - accuracy: 0.8076 - val_loss: 0.4663 - val_accuracy: 0.7867\n",
      "Epoch 93/100\n",
      "90/90 [==============================] - 1s 6ms/step - loss: 0.4044 - accuracy: 0.8073 - val_loss: 0.4683 - val_accuracy: 0.7876\n",
      "Epoch 94/100\n",
      "90/90 [==============================] - 0s 5ms/step - loss: 0.4043 - accuracy: 0.8102 - val_loss: 0.4671 - val_accuracy: 0.7902\n",
      "Epoch 95/100\n",
      "90/90 [==============================] - 0s 5ms/step - loss: 0.4038 - accuracy: 0.8111 - val_loss: 0.4695 - val_accuracy: 0.7849\n",
      "Epoch 96/100\n",
      "90/90 [==============================] - 0s 4ms/step - loss: 0.4040 - accuracy: 0.8104 - val_loss: 0.4689 - val_accuracy: 0.7867\n",
      "Epoch 97/100\n",
      "90/90 [==============================] - 0s 4ms/step - loss: 0.4039 - accuracy: 0.8093 - val_loss: 0.4666 - val_accuracy: 0.7867\n",
      "Epoch 98/100\n",
      "90/90 [==============================] - 0s 6ms/step - loss: 0.4038 - accuracy: 0.8071 - val_loss: 0.4683 - val_accuracy: 0.7893\n",
      "Epoch 99/100\n",
      "90/90 [==============================] - 1s 7ms/step - loss: 0.4040 - accuracy: 0.8080 - val_loss: 0.4678 - val_accuracy: 0.7876\n",
      "Epoch 100/100\n",
      "90/90 [==============================] - 0s 5ms/step - loss: 0.4035 - accuracy: 0.8111 - val_loss: 0.4682 - val_accuracy: 0.7920\n"
     ]
    }
   ],
   "source": [
    "history=final_model.fit(X_train_reshaped,y_train,batch_size=50,epochs=100,verbose=1,validation_split=0.2)"
   ]
  },
  {
   "cell_type": "code",
   "execution_count": 65,
   "id": "66384cad-f81e-4941-85cb-c6287ebb9d1a",
   "metadata": {},
   "outputs": [
    {
     "data": {
      "text/plain": [
       "[array([[ 0.33179107,  0.24596094,  0.46113053,  0.14333487, -0.46645346,\n",
       "          0.12256122,  0.3522992 ,  0.14625677,  0.55959415, -0.4409069 ,\n",
       "          0.21641193],\n",
       "        [ 0.05737359,  0.33135036,  0.38430825, -0.08223014, -0.19911703,\n",
       "         -0.3220029 ,  0.08656058,  0.6247477 ,  0.02231886, -0.02519332,\n",
       "          0.39181906],\n",
       "        [ 0.09051003, -0.55614406, -0.27652076, -0.5905604 , -0.20641181,\n",
       "          0.29841945, -0.16550887, -0.13168462,  0.08945   ,  0.2424733 ,\n",
       "          0.5194534 ],\n",
       "        [ 0.4268741 ,  0.61999387,  0.19753674,  0.4813236 , -0.00921972,\n",
       "         -0.3145507 ,  0.33757484,  0.44191402, -0.2731661 ,  0.08246692,\n",
       "          0.30407333],\n",
       "        [ 0.17003946, -0.13817436, -1.1114341 , -0.2326072 ,  0.24104944,\n",
       "          0.5779985 ,  0.3103621 , -0.24699397,  0.00347549, -0.07013855,\n",
       "         -0.17609957],\n",
       "        [-0.77252483, -0.18708378,  0.08832139, -0.31882694,  0.28794724,\n",
       "          0.50468475,  0.77773535, -0.30872935,  0.5385786 ,  0.05361366,\n",
       "         -0.5627061 ],\n",
       "        [ 0.09533378, -0.41144148, -0.37961817, -0.5336903 ,  0.19769119,\n",
       "          0.49802566, -0.3031857 , -0.5104732 , -0.20311897,  0.21913761,\n",
       "          0.29654482],\n",
       "        [ 0.27270582,  0.2378423 ,  0.20187391,  0.4498354 ,  0.20490716,\n",
       "         -0.02560763, -0.19107266, -0.01160925,  0.5095763 ,  0.03701823,\n",
       "          0.5298205 ],\n",
       "        [-0.67522657,  0.537384  ,  0.08557335, -0.22162107, -0.47284195,\n",
       "          0.10908505, -0.27335033, -0.12469827,  0.09604661, -0.20892128,\n",
       "         -0.14933403],\n",
       "        [ 0.21002169, -0.4174592 , -0.43620488, -0.07217969,  0.58099115,\n",
       "          0.5554364 ,  0.3858982 , -0.16268165, -0.04305319, -0.30383536,\n",
       "         -0.45088845],\n",
       "        [-1.0644968 , -0.20715396,  0.19104463,  0.5560143 , -0.21778844,\n",
       "          0.70428765,  0.65897816,  0.5167661 ,  0.11555058,  0.70540583,\n",
       "          0.0437001 ]], dtype=float32),\n",
       " array([ 0.08008406,  0.15289202, -0.14088668, -0.12233077,  0.2853941 ,\n",
       "         0.16163073,  0.07631847, -0.07459993,  0.1441591 ,  0.17033008,\n",
       "         0.13286683], dtype=float32)]"
      ]
     },
     "execution_count": 65,
     "metadata": {},
     "output_type": "execute_result"
    }
   ],
   "source": [
    "final_model.layers[1].get_weights()"
   ]
  },
  {
   "cell_type": "code",
   "execution_count": 66,
   "id": "45d879aa-df78-4de6-b75f-a24232a827de",
   "metadata": {},
   "outputs": [
    {
     "name": "stdout",
     "output_type": "stream",
     "text": [
      "44/44 [==============================] - 0s 2ms/step\n"
     ]
    }
   ],
   "source": [
    "churn_log = final_model.predict(X_test_reshaped)"
   ]
  },
  {
   "cell_type": "code",
   "execution_count": 67,
   "id": "0210dc6a-1415-4cde-9fcd-ad2b2335329d",
   "metadata": {},
   "outputs": [],
   "source": [
    "churn_pred=np.where(churn_log>0.5, 1, 0) #making it easier to understand by interprating the sigmoid output by our own accords"
   ]
  },
  {
   "cell_type": "code",
   "execution_count": 68,
   "id": "13d28042-2c1a-409c-88f7-aa7427578be2",
   "metadata": {},
   "outputs": [
    {
     "data": {
      "text/plain": [
       "0.7938877043354655"
      ]
     },
     "execution_count": 68,
     "metadata": {},
     "output_type": "execute_result"
    }
   ],
   "source": [
    "from sklearn.metrics import accuracy_score\n",
    "accuracy_score(y_test,churn_pred)  #seeing the accuracy score"
   ]
  },
  {
   "cell_type": "code",
   "execution_count": 69,
   "id": "daf71706-b03c-4904-adc1-5593534037fb",
   "metadata": {},
   "outputs": [
    {
     "data": {
      "text/plain": [
       "[<matplotlib.lines.Line2D at 0x1f224fcd880>]"
      ]
     },
     "execution_count": 69,
     "metadata": {},
     "output_type": "execute_result"
    },
    {
     "data": {
      "image/png": "[encoded data removed]",
      "text/plain": [
       "<Figure size 640x480 with 1 Axes>"
      ]
     },
     "metadata": {},
     "output_type": "display_data"
    }
   ],
   "source": [
    "plt.plot(history.history['loss'])\n",
    "plt.plot(history.history['val_loss']) #seeing our model plotted"
   ]
  },
  {
   "cell_type": "code",
   "execution_count": 70,
   "id": "945a085b-d436-4fcf-858e-017a14c395d1",
   "metadata": {},
   "outputs": [
    {
     "data": {
      "text/plain": [
       "[<matplotlib.lines.Line2D at 0x1f224ff1190>]"
      ]
     },
     "execution_count": 70,
     "metadata": {},
     "output_type": "execute_result"
    },
    {
     "data": {
      "image/png": "[encoded data removed]",
      "text/plain": [
       "<Figure size 640x480 with 1 Axes>"
      ]
     },
     "metadata": {},
     "output_type": "display_data"
    }
   ],
   "source": [
    "plt.plot(history.history['accuracy'])\n",
    "plt.plot(history.history['val_accuracy']) #seeing our model plotted"
   ]
  },
  {
   "cell_type": "markdown",
   "id": "d2863c3d-cd75-42fa-82d5-bcead58334a1",
   "metadata": {},
   "source": [
    "**so as we can see this model actually performs much better.**"
   ]
  },
  {
   "cell_type": "markdown",
   "id": "ed836d3e-9689-4b50-ad47-1a53a85999ad",
   "metadata": {},
   "source": [
    "## saving the model weights"
   ]
  },
  {
   "cell_type": "code",
   "execution_count": 71,
   "id": "1f0b3bab-de6b-4ddb-b1b4-3d669eceeb1b",
   "metadata": {},
   "outputs": [],
   "source": [
    "final_model.save_weights('churn_weights.h5')"
   ]
  },
  {
   "cell_type": "code",
   "execution_count": 73,
   "id": "94e90c81-072a-4d5f-bb0c-84c2fd63f49b",
   "metadata": {},
   "outputs": [
    {
     "name": "stderr",
     "output_type": "stream",
     "text": [
      "C:\\Users\\91771\\AppData\\Roaming\\Python\\Python38\\site-packages\\keras\\src\\engine\\training.py:3000: UserWarning: You are saving your model as an HDF5 file via `model.save()`. This file format is considered legacy. We recommend using instead the native Keras format, e.g. `model.save('my_model.keras')`.\n",
      "  saving_api.save_model(\n"
     ]
    }
   ],
   "source": [
    "final_model.save('churn_prediction.h5')"
   ]
  },
  {
   "cell_type": "code",
   "execution_count": null,
   "id": "14620d9a-e4c6-439d-b22f-60f22dfa022e",
   "metadata": {},
   "outputs": [],
   "source": []
  }
 ],
 "metadata": {
  "kernelspec": {
   "display_name": "Python 3 (ipykernel)",
   "language": "python",
   "name": "python3"
  },
  "language_info": {
   "codemirror_mode": {
    "name": "ipython",
    "version": 3
   },
   "file_extension": ".py",
   "mimetype": "text/x-python",
   "name": "python",
   "nbconvert_exporter": "python",
   "pygments_lexer": "ipython3",
   "version": "3.8.2"
  }
 },
 "nbformat": 4,
 "nbformat_minor": 5
}
